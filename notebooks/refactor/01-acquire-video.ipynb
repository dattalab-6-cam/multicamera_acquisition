{
 "cells": [
  {
   "cell_type": "markdown",
   "metadata": {},
   "source": [
    "## Acquire video"
   ]
  },
  {
   "cell_type": "markdown",
   "metadata": {},
   "source": [
    "Using an acquisition config file, for example generated with `00-setup.ipynb`, record multicam video."
   ]
  },
  {
   "cell_type": "code",
   "execution_count": null,
   "metadata": {},
   "outputs": [
    {
     "name": "stdout",
     "output_type": "stream",
     "text": [
      "The autoreload extension is already loaded. To reload it, use:\n",
      "  %reload_ext autoreload\n"
     ]
    }
   ],
   "source": [
    "%load_ext autoreload\n",
    "%autoreload 2"
   ]
  },
  {
   "cell_type": "code",
   "execution_count": null,
   "metadata": {},
   "outputs": [],
   "source": [
    "# TODO: refactor into end-user module?\n",
    "from multicamera_acquisition.tests.writer.test_writers import (\n",
    "    fps,\n",
    "    n_test_frames,\n",
    ")\n",
    "from multicamera_acquisition.tests.interfaces.test_ir_cameras import (\n",
    "    camera_type, \n",
    "    camera,\n",
    ")\n",
    "from multicamera_acquisition.interfaces.config import (\n",
    "    partial_config_from_camera_list,\n",
    "    create_full_camera_default_config,\n",
    ")\n",
    "\n",
    "from multicamera_acquisition.acquisition import (\n",
    "    AcquisitionLoop\n",
    ")\n",
    "\n",
    "from multicamera_acquisition.paths import PROJECT_DIR, DATA_DIR\n",
    "\n",
    "from multicamera_acquisition.config.config import load_config, save_config\n",
    "\n",
    "from multicamera_acquisition.acquisition import (\n",
    "    refactor_acquire_video,\n",
    "    AcquisitionLoop\n",
    ")\n",
    "from pathlib import Path\n",
    "from datetime import datetime\n",
    "import os\n",
    "from shutil import rmtree"
   ]
  },
  {
   "cell_type": "markdown",
   "metadata": {},
   "source": [
    "### Set project paths"
   ]
  },
  {
   "cell_type": "code",
   "execution_count": null,
   "metadata": {},
   "outputs": [],
   "source": [
    "config_path = PROJECT_DIR / \"acquisition_config.yml\"\n",
    "output_directory = DATA_DIR"
   ]
  },
  {
   "cell_type": "code",
   "execution_count": null,
   "metadata": {},
   "outputs": [],
   "source": [
    "config = load_config(config_path)"
   ]
  },
  {
   "cell_type": "markdown",
   "metadata": {},
   "source": [
    "### Test acquisition (optional)\n",
    "\n",
    "Attempt to run a short recording in a temp directory and visualize the results to validate devices are connected and videos look as expected."
   ]
  },
  {
   "cell_type": "code",
   "execution_count": null,
   "metadata": {},
   "outputs": [],
   "source": [
    "# TODO: pull out cells from 00-setup to acquire and visualize test video\n",
    "# acquire_test_video(config)"
   ]
  },
  {
   "cell_type": "markdown",
   "metadata": {},
   "source": [
    "### Run acquisition\n",
    "\n",
    "Start the main acquisition loop."
   ]
  },
  {
   "cell_type": "code",
   "execution_count": null,
   "metadata": {},
   "outputs": [],
   "source": [
    "# TODO: name prefix after merge with Caleb's PR\n",
    "save_loc, full_config = refactor_acquire_video(\n",
    "    output_directory,\n",
    "    config,\n",
    "    recording_duration_s=1,\n",
    "    append_datetime=True,\n",
    "    overwrite=False,\n",
    ")"
   ]
  }
 ],
 "metadata": {
  "language_info": {
   "name": "python"
  }
 },
 "nbformat": 4,
 "nbformat_minor": 2
}
