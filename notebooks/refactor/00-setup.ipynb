{
 "cells": [
  {
   "cell_type": "markdown",
   "metadata": {},
   "source": [
    "## System configuration and validation\n",
    "\n",
    "Before recording, we generate a configuration file which will tell `multicam_acquisition` what devices to use, how to trigger frame grabs, and how to write the results to disk. This notebook can also be used to verify before a recording session that the system is functioning correctly.\n",
    "\n",
    "For generation of example configurations under several common hardware setups, see `notebooks/example-rigs/`."
   ]
  },
  {
   "cell_type": "code",
   "execution_count": 4,
   "metadata": {},
   "outputs": [
    {
     "name": "stdout",
     "output_type": "stream",
     "text": [
      "The autoreload extension is already loaded. To reload it, use:\n",
      "  %reload_ext autoreload\n"
     ]
    }
   ],
   "source": [
    "%load_ext autoreload\n",
    "%autoreload 2"
   ]
  },
  {
   "cell_type": "code",
   "execution_count": 5,
   "metadata": {},
   "outputs": [],
   "source": [
    "# TODO: refactor into end-user module?\n",
    "from multicamera_acquisition.tests.writer.test_writers import (\n",
    "    fps,\n",
    "    n_test_frames,\n",
    ")\n",
    "from multicamera_acquisition.tests.interfaces.test_ir_cameras import (\n",
    "    camera_type, \n",
    "    camera,\n",
    ")\n",
    "from multicamera_acquisition.interfaces.config import (\n",
    "    partial_config_from_camera_list,\n",
    "    create_full_camera_default_config,\n",
    ")\n",
    "\n",
    "from multicamera_acquisition.acquisition import (\n",
    "    AcquisitionLoop\n",
    ")\n",
    "\n",
    "from multicamera_acquisition.paths import PROJECT_DIR\n",
    "\n",
    "from multicamera_acquisition.config.config import load_config, save_config\n",
    "\n",
    "from multicamera_acquisition.acquisition import (\n",
    "    refactor_acquire_video,\n",
    "    AcquisitionLoop\n",
    ")\n",
    "from pathlib import Path\n",
    "from datetime import datetime\n",
    "import os\n",
    "from shutil import rmtree"
   ]
  },
  {
   "cell_type": "markdown",
   "metadata": {},
   "source": [
    "### Set project paths"
   ]
  },
  {
   "cell_type": "code",
   "execution_count": null,
   "metadata": {},
   "outputs": [],
   "source": [
    "config_path = PROJECT_DIR / \"acquisition_config.yml\"\n",
    "tmp_directory = Path('/tmp/acq_test')"
   ]
  },
  {
   "cell_type": "markdown",
   "metadata": {},
   "source": [
    "### Generate config\n",
    "\n",
    "This section can be altered and run during system setup to create a configuration file for running acquisitions. Then the Run Test Acquisition section can be used as needed to check that chosen parameters result in satisfactory recordings.\n",
    "\n",
    "If you have already generated a config file, you may skip this section as it will be loaded in Run Test Acquisition."
   ]
  },
  {
   "cell_type": "code",
   "execution_count": null,
   "metadata": {},
   "outputs": [],
   "source": [
    "# TODO: update with arduino config\n",
    "# TODO: update with display config\n",
    "# TODO: change example from continuous mode\n",
    "\n",
    "# Generate camera config\n",
    "camera_list = [\n",
    "    {\"name\": \"top\", \"brand\": 'basler', \"id\": 0, \"short_name\": \"continuous\"},\n",
    "    {\"name\": \"bottom\", \"brand\": 'basler', \"id\": 1, \"short_name\": \"continuous\"}\n",
    "]\n",
    "fps = 30\n",
    "\n",
    "# Parse the \"camera list\" into a partial config\n",
    "partial_new_config = partial_config_from_camera_list(camera_list, fps)\n",
    "\n",
    "# Create the full config, filling in defaults where necessary\n",
    "# This generates a default writer config for each camera as well. To specify\n",
    "# non-default writers, see docs for `FFMPEG_Writer` or `NVC_Writer`.\n",
    "full_config = create_full_camera_default_config(partial_new_config)\n",
    "\n",
    "# Set up the acquisition loop section of the config\n",
    "acq_config = AcquisitionLoop.default_acq_loop_config()\n",
    "full_config[\"acq_loop\"] = acq_config"
   ]
  },
  {
   "cell_type": "code",
   "execution_count": null,
   "metadata": {},
   "outputs": [],
   "source": [
    "save_config(str(config_path), full_config)"
   ]
  },
  {
   "cell_type": "markdown",
   "metadata": {},
   "source": [
    "### Run Test Acquisition\n",
    "\n",
    "Load the configuration file pointed to by `config_path`, attempt to run a short acquisition, and visualize the results to validate system parameters."
   ]
  },
  {
   "cell_type": "code",
   "execution_count": 7,
   "metadata": {},
   "outputs": [],
   "source": [
    "# Load config\n",
    "config = load_config(config_path)"
   ]
  },
  {
   "cell_type": "code",
   "execution_count": null,
   "metadata": {},
   "outputs": [],
   "source": [
    "# Run short acquisition\n",
    "curr_time = datetime.datetime.now().replace(microsecond=0).isoformat().replace(':', \"-\")\n",
    "acq_config[\"max_frames_to_acqure\"] = 30 # TODO: required for continuous cameras?\n",
    "save_loc, full_config = refactor_acquire_video(\n",
    "    tmp_directory / curr_time,\n",
    "    config,\n",
    "    recording_duration_s=1,\n",
    "    append_datetime=True,\n",
    "    overwrite=False,\n",
    ")"
   ]
  },
  {
   "cell_type": "code",
   "execution_count": null,
   "metadata": {},
   "outputs": [],
   "source": [
    "# Visualize results\n",
    "# TODO: tap into visualization loop from `acquire_video`"
   ]
  },
  {
   "cell_type": "code",
   "execution_count": null,
   "metadata": {},
   "outputs": [],
   "source": [
    "# Cleanup\n",
    "for f in os.listdir(str(tmp_directory)):\n",
    "    rmtree(tmp_directory / f)"
   ]
  }
 ],
 "metadata": {
  "kernelspec": {
   "display_name": "cam6",
   "language": "python",
   "name": "python3"
  },
  "language_info": {
   "codemirror_mode": {
    "name": "ipython",
    "version": 3
   },
   "file_extension": ".py",
   "mimetype": "text/x-python",
   "name": "python",
   "nbconvert_exporter": "python",
   "pygments_lexer": "ipython3",
   "version": "3.9.18"
  }
 },
 "nbformat": 4,
 "nbformat_minor": 2
}
