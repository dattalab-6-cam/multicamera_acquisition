{
 "cells": [
  {
   "cell_type": "code",
   "execution_count": 1,
   "id": "de4425c5",
   "metadata": {},
   "outputs": [],
   "source": [
    "%load_ext autoreload\n",
    "%autoreload 2"
   ]
  },
  {
   "cell_type": "code",
   "execution_count": 2,
   "id": "205a6ea2",
   "metadata": {},
   "outputs": [],
   "source": [
    "camera_list = [\n",
    "    {'name': 'top', 'serial': 22181547},\n",
    "    #{'name': 'side1', 'serial': 22181612},\n",
    "]"
   ]
  },
  {
   "cell_type": "code",
   "execution_count": 3,
   "id": "6805cc15",
   "metadata": {},
   "outputs": [
    {
     "name": "stderr",
     "output_type": "stream",
     "text": [
      "/home/dattalab/code/multicamera_acquisition/multicamera_acquisition/interfaces/arduino.py:4: TqdmExperimentalWarning: Using `tqdm.autonotebook.tqdm` in notebook mode. Use `tqdm.tqdm` instead to force console mode (e.g. in jupyter console)\n",
      "  from tqdm.autonotebook import tqdm\n"
     ]
    }
   ],
   "source": [
    "import PySpin\n",
    "from multicamera_acquisition.interfaces import get_camera\n",
    "from datetime import datetime\n",
    "import csv\n",
    "from multicamera_acquisition.paths import ensure_dir\n",
    "from multicamera_acquisition.acquisition import Writer, AcquisitionLoop\n",
    "import serial\n",
    "from pathlib2 import Path\n",
    "from datetime import datetime\n",
    "import multiprocessing as mp\n",
    "import warnings"
   ]
  },
  {
   "cell_type": "code",
   "execution_count": 4,
   "id": "340f0a85",
   "metadata": {},
   "outputs": [],
   "source": [
    "from multicamera_acquisition.paths import DATA_DIR\n",
    "import logging\n",
    "from multicamera_acquisition.video_utils import count_frames"
   ]
  },
  {
   "cell_type": "code",
   "execution_count": 5,
   "id": "978a4a59",
   "metadata": {},
   "outputs": [],
   "source": [
    "brand = 'flir'\n",
    "save_location = DATA_DIR / 'tests'\n",
    "framerate = 30\n",
    "exposure_time = 2000\n",
    "recording_duration_s = 10\n",
    "serial_timeout_duration_s=0.1\n",
    "overwrite=False\n",
    "append_datetime=True\n",
    "verbose = True\n",
    "n_input_trigger_states =4 "
   ]
  },
  {
   "cell_type": "code",
   "execution_count": 6,
   "id": "20dd939d",
   "metadata": {},
   "outputs": [],
   "source": [
    "if brand not in ['flir', 'basler']:\n",
    "    raise NotImplementedError\n",
    "\n",
    "# get Path of save location\n",
    "if type(save_location) != Path:\n",
    "    save_location = Path(save_location)\n",
    "\n",
    "# create a subfolder for the current datetime\n",
    "if append_datetime:\n",
    "    date_str = datetime.now().strftime(\"%y-%m-%d-%H-%M-%S-%f\")\n",
    "    save_location = save_location / date_str\n",
    "\n",
    "# ensure that a directory exists to save data in\n",
    "ensure_dir(save_location)\n",
    "\n",
    "triggerdata_file = save_location / \"triggerdata.csv\"\n",
    "if triggerdata_file.exists() and (overwrite == False):\n",
    "    raise FileExistsError(f\"CSV file {triggerdata_file} already exists\")"
   ]
  },
  {
   "cell_type": "code",
   "execution_count": 7,
   "id": "41e7a4ad",
   "metadata": {},
   "outputs": [],
   "source": [
    "# initialize cameras\n",
    "writers = []\n",
    "acquisition_loops = []"
   ]
  },
  {
   "cell_type": "code",
   "execution_count": 8,
   "id": "ec2c1e58",
   "metadata": {},
   "outputs": [],
   "source": [
    "# create acquisition loops\n",
    "for camera_dict in camera_list:\n",
    "    break"
   ]
  },
  {
   "cell_type": "code",
   "execution_count": 9,
   "id": "5310274e",
   "metadata": {},
   "outputs": [],
   "source": [
    "name = camera_dict[\"name\"]\n",
    "serial_number = camera_dict[\"serial\"]\n",
    "\n",
    "video_file = save_location / f\"{name}.{serial_number}.avi\"\n",
    "metadata_file = save_location / f\"{name}.{serial_number}.triggerdata.csv\"\n",
    "\n",
    "if video_file.exists() and (overwrite == False):\n",
    "    raise FileExistsError(f\"Video file {video_file} already exists\")"
   ]
  },
  {
   "cell_type": "code",
   "execution_count": 10,
   "id": "e3bc9a00",
   "metadata": {},
   "outputs": [],
   "source": [
    "# create a writer queue\n",
    "write_queue = mp.Queue()\n",
    "writer = Writer(\n",
    "    write_queue,\n",
    "    video_file_name=video_file,\n",
    "    metadata_file_name=metadata_file,\n",
    "    fps=framerate,\n",
    "    camera_serial=serial_number,\n",
    "    camera_name=name,\n",
    ")"
   ]
  },
  {
   "cell_type": "code",
   "execution_count": 11,
   "id": "1a8db168",
   "metadata": {},
   "outputs": [],
   "source": [
    "# prepare the acuqisition loop in a separate thread\n",
    "acquisition_loop = AcquisitionLoop(\n",
    "    write_queue, brand = brand, serial_number=serial_number, exposure_time=exposure_time, gain=15\n",
    ")"
   ]
  },
  {
   "cell_type": "code",
   "execution_count": 12,
   "id": "6b7cf3c9",
   "metadata": {},
   "outputs": [
    {
     "name": "stderr",
     "output_type": "stream",
     "text": [
      "/home/dattalab/code/multicamera_acquisition/multicamera_acquisition/acquisition.py:69: UserWarning: Dropped 1 frame on #22181547: \n",
      "SpinnakerException\n",
      "  warnings.warn(\n",
      "/home/dattalab/code/multicamera_acquisition/multicamera_acquisition/acquisition.py:69: UserWarning: Dropped 152 frame on #22181547: \n",
      "SpinnakerException\n",
      "  warnings.warn(\n"
     ]
    }
   ],
   "source": [
    "# initialize acquisition\n",
    "writer.start()\n",
    "writers.append(writer)\n",
    "acquisition_loop.start()\n",
    "acquisition_loop.ready.wait()\n",
    "acquisition_loops.append(acquisition_loop)\n",
    "if verbose:\n",
    "    logging.info(f\"Initialized {name} ({serial_number})\")"
   ]
  },
  {
   "cell_type": "code",
   "execution_count": 13,
   "id": "d257dc75",
   "metadata": {},
   "outputs": [],
   "source": [
    "# prepare acquisition loops\n",
    "for acquisition_loop in acquisition_loops:\n",
    "    acquisition_loop.prime()\n",
    "    acquisition_loop.ready.wait()"
   ]
  },
  {
   "cell_type": "code",
   "execution_count": 14,
   "id": "6ef38c99",
   "metadata": {},
   "outputs": [],
   "source": [
    "import glob"
   ]
  },
  {
   "cell_type": "code",
   "execution_count": 15,
   "id": "471349fe",
   "metadata": {},
   "outputs": [],
   "source": [
    "# prepare communication with arduino\n",
    "serial_ports = glob.glob(\"/dev/ttyACM*\")\n",
    "# check that there is an arduino available\n",
    "if len(serial_ports) == 0:\n",
    "    raise ValueError(\"No serial device (i.e. Arduino) available to capture frames\")\n",
    "port = glob.glob(\"/dev/ttyACM*\")[0]\n",
    "arduino = serial.Serial(port=port, timeout=serial_timeout_duration_s)"
   ]
  },
  {
   "cell_type": "code",
   "execution_count": 16,
   "id": "5fbc6d3f",
   "metadata": {},
   "outputs": [],
   "source": [
    "import time"
   ]
  },
  {
   "cell_type": "code",
   "execution_count": 17,
   "id": "caaf1fc7",
   "metadata": {},
   "outputs": [],
   "source": [
    "# delay recording to allow serial connection to connect\n",
    "time.sleep(1.0)\n",
    "\n",
    "# create a triggerdata file\n",
    "with open(triggerdata_file, \"w\") as triggerdata_f:\n",
    "    triggerdata_writer = csv.writer(triggerdata_f)\n",
    "    triggerdata_writer.writerow(\n",
    "        [\"pulse_id\", \"arduino_ms\"]\n",
    "        + [f\"flag_{i}\" for i in range(n_input_trigger_states)]\n",
    "    )"
   ]
  },
  {
   "cell_type": "code",
   "execution_count": 18,
   "id": "4008e764",
   "metadata": {},
   "outputs": [],
   "source": [
    "from multicamera_acquisition.interfaces.arduino import packIntAsLong, wait_for_serial_confirmation"
   ]
  },
  {
   "cell_type": "code",
   "execution_count": 19,
   "id": "aa2ee152",
   "metadata": {},
   "outputs": [],
   "source": [
    "from tqdm.autonotebook import tqdm"
   ]
  },
  {
   "cell_type": "code",
   "execution_count": 20,
   "id": "01348099",
   "metadata": {},
   "outputs": [
    {
     "data": {
      "text/plain": [
       "<function multicamera_acquisition.interfaces.arduino.wait_for_serial_confirmation(arduino, expected_confirmation, recording_duration=5, timeout_duration_s=0.1)>"
      ]
     },
     "execution_count": 20,
     "metadata": {},
     "output_type": "execute_result"
    }
   ],
   "source": [
    "wait_for_serial_confirmation"
   ]
  },
  {
   "cell_type": "code",
   "execution_count": 21,
   "id": "11ca396b",
   "metadata": {},
   "outputs": [
    {
     "data": {
      "text/plain": [
       "12"
      ]
     },
     "execution_count": 21,
     "metadata": {},
     "output_type": "execute_result"
    }
   ],
   "source": [
    "# Tell the arduino to start recording by sending along the recording parameters\n",
    "inv_framerate = int(1e6 / framerate)\n",
    "num_cycles = int(recording_duration_s * framerate / 2)\n",
    "msg = b\"\".join(\n",
    "    map(\n",
    "        packIntAsLong,\n",
    "        (\n",
    "            num_cycles,\n",
    "            exposure_time,\n",
    "            inv_framerate,\n",
    "        ),\n",
    "    )\n",
    ")\n",
    "arduino.write(msg)"
   ]
  },
  {
   "cell_type": "code",
   "execution_count": 22,
   "id": "a4890e5a",
   "metadata": {},
   "outputs": [],
   "source": [
    "from datetime import timedelta"
   ]
  },
  {
   "cell_type": "code",
   "execution_count": 23,
   "id": "d5fe1071",
   "metadata": {},
   "outputs": [
    {
     "name": "stdout",
     "output_type": "stream",
     "text": [
      "Confirmation recieved: Start\n",
      "input: 1,0,0,0,1,709\n",
      "input: 1,0,0,0,1,709\n",
      "Finished\n",
      "Finished\n",
      "End Acquisition\n"
     ]
    }
   ],
   "source": [
    "# Run acquision\n",
    "confirmation = wait_for_serial_confirmation(arduino, \"Start\")\n",
    " # how long to record\n",
    "endtime = datetime.now() + timedelta(seconds=recording_duration_s+10) \n",
    "# while current time is less than initial time + recording_duration_s\n",
    "while datetime.now() < endtime:\n",
    "    confirmation = arduino.readline().decode(\"utf-8\").strip(\"\\r\\n\")\n",
    "\n",
    "    # save input data flags\n",
    "    if len(confirmation) > 0:\n",
    "        print(confirmation)\n",
    "        if confirmation[:7] == \"input: \":\n",
    "            with open(triggerdata_file, \"a\") as triggerdata_f:\n",
    "                triggerdata_writer = csv.writer(triggerdata_f)\n",
    "                states = confirmation[7:].split(\",\")[:-2]\n",
    "                frame_num = confirmation[7:].split(\",\")[-2]\n",
    "                arduino_clock = confirmation[7:].split(\",\")[-1]\n",
    "                triggerdata_writer.writerow([frame_num, arduino_clock] + states)\n",
    "        if verbose:\n",
    "            print(confirmation)\n",
    "\n",
    "    if confirmation == \"Finished\":\n",
    "        print('End Acquisition')\n",
    "        break\n",
    "\n",
    "if confirmation != \"Finished\":\n",
    "    confirmation = wait_for_serial_confirmation(arduino, \"Finished\")"
   ]
  },
  {
   "cell_type": "code",
   "execution_count": 24,
   "id": "f389ef8d",
   "metadata": {},
   "outputs": [],
   "source": [
    "from datetime import datetime, timedelta"
   ]
  },
  {
   "cell_type": "code",
   "execution_count": 25,
   "id": "3dbfe611",
   "metadata": {},
   "outputs": [
    {
     "data": {
      "text/plain": [
       "True"
      ]
     },
     "execution_count": 25,
     "metadata": {},
     "output_type": "execute_result"
    }
   ],
   "source": [
    "datetime.now()+ timedelta(seconds=recording_duration_s) > datetime.now()"
   ]
  },
  {
   "cell_type": "code",
   "execution_count": 26,
   "id": "d744a59b",
   "metadata": {
    "scrolled": false
   },
   "outputs": [],
   "source": [
    "# end acquisition loops\n",
    "for acquisition_loop in acquisition_loops:\n",
    "    acquisition_loop.stop()\n",
    "    acquisition_loop.join()"
   ]
  },
  {
   "cell_type": "code",
   "execution_count": 27,
   "id": "fbc977f5",
   "metadata": {},
   "outputs": [],
   "source": [
    "# @CALEB: what is the purpose of this?\n",
    "for writer in writers:\n",
    "    writer.join()"
   ]
  },
  {
   "cell_type": "code",
   "execution_count": 28,
   "id": "f963a9df",
   "metadata": {},
   "outputs": [
    {
     "data": {
      "text/plain": [
       "PosixPath('/home/dattalab/code/multicamera_acquisition/data/tests/23-01-12-12-15-48-151327/top.22181547.avi')"
      ]
     },
     "execution_count": 28,
     "metadata": {},
     "output_type": "execute_result"
    }
   ],
   "source": [
    "video_file"
   ]
  },
  {
   "cell_type": "code",
   "execution_count": 29,
   "id": "08ad52c2",
   "metadata": {},
   "outputs": [
    {
     "name": "stdout",
     "output_type": "stream",
     "text": [
      "Frames (top): 151\n"
     ]
    }
   ],
   "source": [
    "if verbose:\n",
    "    # count each frame\n",
    "    for camera_dict in camera_list:\n",
    "        name = camera_dict[\"name\"]\n",
    "        serial_number = camera_dict[\"serial\"]\n",
    "        video_file = save_location / f\"{name}.{serial_number}.avi\"\n",
    "        print(f\"Frames ({name}):\", count_frames(video_file.as_posix()))"
   ]
  },
  {
   "cell_type": "code",
   "execution_count": null,
   "id": "a04280aa",
   "metadata": {},
   "outputs": [],
   "source": []
  },
  {
   "cell_type": "code",
   "execution_count": null,
   "id": "d0cbd6ff",
   "metadata": {},
   "outputs": [],
   "source": []
  }
 ],
 "metadata": {
  "kernelspec": {
   "display_name": "flir_acq",
   "language": "python",
   "name": "flir_acq"
  },
  "language_info": {
   "codemirror_mode": {
    "name": "ipython",
    "version": 3
   },
   "file_extension": ".py",
   "mimetype": "text/x-python",
   "name": "python",
   "nbconvert_exporter": "python",
   "pygments_lexer": "ipython3",
   "version": "3.10.8"
  }
 },
 "nbformat": 4,
 "nbformat_minor": 5
}
