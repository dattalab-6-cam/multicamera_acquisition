{
 "cells": [
  {
   "cell_type": "code",
   "execution_count": 1,
   "id": "8da26fa4-9f29-4c5e-a6dd-7e3bf16d3689",
   "metadata": {},
   "outputs": [],
   "source": [
    "%load_ext autoreload\n",
    "%autoreload 2\n",
    "\n",
    "from multicamera_acquisition.acquisition import refactor_acquire_video, AcquisitionLoop\n",
    "from multicamera_acquisition.writer import NVC_Writer, FFMPEG_Writer\n",
    "from multicamera_acquisition.interfaces.microcontroller import Microcontroller \n",
    "from multicamera_acquisition.interfaces.config import (\n",
    "    partial_config_from_camera_list,\n",
    "    create_full_camera_default_config,\n",
    ")\n"
   ]
  },
  {
   "cell_type": "code",
   "execution_count": 2,
   "id": "b3f29fdc",
   "metadata": {},
   "outputs": [],
   "source": [
    "# Run the func!\n",
    "import logging\n",
    "\n",
    "def reset_loggers():\n",
    "    # Remove handlers from all loggers\n",
    "    for logger in logging.Logger.manager.loggerDict.values():\n",
    "        if isinstance(logger, logging.Logger):  # Guard against 'PlaceHolder' objects\n",
    "            logger.handlers.clear()\n",
    "\n",
    "    # Reset the root logger\n",
    "    logging.getLogger().handlers.clear()"
   ]
  },
  {
   "cell_type": "code",
   "execution_count": 24,
   "id": "c3af494e",
   "metadata": {},
   "outputs": [],
   "source": [
    "camera_list = [\n",
    "    {\"name\": \"side3\",  \"brand\": \"basler\", \"id\": \"40332773\", \"gain\": 6, \"exposure\": 1000},\n",
    "    {\"name\": \"side4\",  \"brand\": \"basler\", \"id\": \"40347935\", \"gain\": 6, \"exposure\": 1000},\n",
    "    {\"name\": \"side2\",  \"brand\": \"basler\", \"id\": \"40347941\", \"gain\": 6, \"exposure\": 1000},\n",
    "    {\"name\": \"side1\",  \"brand\": \"basler\", \"id\": \"40347943\", \"gain\": 6, \"exposure\": 1000},\n",
    "    {\"name\": \"top\",    \"brand\": \"basler\", \"id\": \"40393557\", \"gain\": 6, \"exposure\": 1000},\n",
    "    {\"name\": \"bottom\", \"brand\": \"basler\", \"id\": \"40393560\", \"gain\": 22, \"exposure\": 1000},\n",
    "    # {\"name\": \"azure_top\",    \"brand\": \"azure\", \"id\": \"000500221712\", \"subordinate_delay_off_master_usec\": 0},\n",
    "    # {\"name\": \"azure_bottom\", \"brand\": \"azure\", \"id\": \"000693321712\", \"subordinate_delay_off_master_usec\": 160},    \n",
    "]\n",
    "\n",
    "# Set the trigger behavior\n",
    "for camera in camera_list[:6]:\n",
    "    camera[\"trigger_type\"] = \"microcontroller\"\n",
    "\n",
    "# Recording params\n",
    "fps = 90\n",
    "rec_time_s = 10\n",
    "tmp_path = R'D:\\Jonah\\2023_12_26_6cam_testing\\tmp'\n",
    "logging_level = \"INFO\""
   ]
  },
  {
   "cell_type": "code",
   "execution_count": 25,
   "id": "5cfb810a-8974-4c36-8312-9bb6dbf0a788",
   "metadata": {},
   "outputs": [],
   "source": [
    "# Parse the \"camera list\" into a partial config\n",
    "partial_new_config = partial_config_from_camera_list(camera_list)\n",
    "\n",
    "# Add writer configs to each ir camera config\n",
    "for camera_name in partial_new_config[\"cameras\"].keys():\n",
    "    if partial_new_config[\"cameras\"][camera_name][\"brand\"] != \"basler\":\n",
    "        continue\n",
    "    ir_writer_config = NVC_Writer.default_writer_config(fps).copy()\n",
    "    ir_writer_config[\"camera_name\"] = camera_name\n",
    "    partial_new_config[\"cameras\"][camera_name][\"writer\"] = ir_writer_config\n",
    "\n",
    "# Add writer config for the azure cameras\n",
    "for camera_name in partial_new_config[\"cameras\"].keys():\n",
    "    if partial_new_config[\"cameras\"][camera_name][\"brand\"] != \"azure\":\n",
    "        continue\n",
    "    az_ir_config = FFMPEG_Writer.default_writer_config(30, vid_type=\"ir\", gpu=None).copy()\n",
    "    az_dp_config = FFMPEG_Writer.default_writer_config(30, vid_type=\"depth\", gpu=None).copy()\n",
    "    az_ir_config[\"camera_name\"] = camera_name\n",
    "    az_dp_config[\"camera_name\"] = camera_name\n",
    "    partial_new_config[\"cameras\"][camera_name][\"writer\"] = az_ir_config\n",
    "    partial_new_config[\"cameras\"][camera_name][\"writer_depth\"] = az_dp_config\n",
    "\n"
   ]
  },
  {
   "cell_type": "code",
   "execution_count": 26,
   "id": "1d01ca66",
   "metadata": {},
   "outputs": [],
   "source": [
    "# Create the full config, filling in defaults where necessary\n",
    "full_config = create_full_camera_default_config(partial_new_config, fps)\n",
    "full_config[\"globals\"] = {}\n",
    "full_config[\"globals\"][\"fps\"] = fps\n",
    "full_config[\"globals\"][\"microcontroller_required\"] =True\n",
    "\n",
    "# Set up the acquisition loop part of the config\n",
    "acq_config = AcquisitionLoop.default_acq_loop_config().copy()\n",
    "full_config[\"acq_loop\"] = acq_config\n",
    "\n",
    "# Set up the Microcontroller part of the config\n",
    "full_config[\"microcontroller\"] = Microcontroller.default_microcontroller_config()\n",
    "full_config[\"microcontroller\"][\"top_camera_pins\"] = [1, 5, 7, 9, 11]\n",
    "full_config[\"microcontroller\"][\"bottom_camera_pins\"] = [3]\n",
    "# full_config[\"microcontroller\"][\"bottom_camera_offset\"] = 500"
   ]
  },
  {
   "cell_type": "code",
   "execution_count": null,
   "id": "a4e0c348",
   "metadata": {},
   "outputs": [],
   "source": []
  },
  {
   "cell_type": "code",
   "execution_count": null,
   "id": "aac1d27f",
   "metadata": {},
   "outputs": [],
   "source": []
  },
  {
   "cell_type": "code",
   "execution_count": 27,
   "id": "e409c743",
   "metadata": {},
   "outputs": [
    {
     "name": "stdout",
     "output_type": "stream",
     "text": [
      "Available Azures: 2\n"
     ]
    },
    {
     "name": "stderr",
     "output_type": "stream",
     "text": [
      "2024-01-18 17:25:51,257 - main_acq_logger - INFO - Finding microcontroller...\n",
      "2024-01-18 17:25:59,846 - main_acq_logger - INFO - Starting cameras...\n",
      "INFO:main_acq_logger:Starting cameras...\n",
      "2024-01-18 17:25:59,957 - main_acq_logger - INFO - Starting microcontroller...\n",
      "INFO:main_acq_logger:Starting microcontroller...\n",
      "recording progress (s):  90%|█████████ | 9/10 [00:09<00:01,  1.00s/it]2024-01-18 17:26:11,123 - side4_acqLoop - WARNING - Dropped frame on iter 900 after receiving 900 frames\n",
      "2024-01-18 17:26:11,123 - top_acqLoop - WARNING - Dropped frame on iter 900 after receiving 900 frames\n",
      "2024-01-18 17:26:11,123 - side2_acqLoop - WARNING - Dropped frame on iter 900 after receiving 900 frames\n",
      "2024-01-18 17:26:11,123 - side3_acqLoop - WARNING - Dropped frame on iter 900 after receiving 900 frames\n",
      "2024-01-18 17:26:11,139 - main_acq_logger - WARNING - Terminating acquisition loop (join timed out)\n",
      "WARNING:main_acq_logger:Terminating acquisition loop (join timed out)\n",
      "2024-01-18 17:26:11,139 - side1_acqLoop - WARNING - Dropped frame on iter 900 after receiving 900 frames\n",
      "2024-01-18 17:26:11,139 - bottom_acqLoop - WARNING - Dropped frame on iter 900 after receiving 900 frames\n",
      "2024-01-18 17:26:12,140 - main_acq_logger - WARNING - Terminating acquisition loop (join timed out)\n",
      "WARNING:main_acq_logger:Terminating acquisition loop (join timed out)\n",
      "2024-01-18 17:26:12,140 - side2_acqLoop - WARNING - Dropped frame on iter 901 after receiving 900 frames\n",
      "2024-01-18 17:26:12,140 - side1_acqLoop - WARNING - Dropped frame on iter 901 after receiving 900 frames\n",
      "2024-01-18 17:26:12,140 - bottom_acqLoop - WARNING - Dropped frame on iter 901 after receiving 900 frames\n",
      "2024-01-18 17:26:12,140 - top_acqLoop - WARNING - Dropped frame on iter 901 after receiving 900 frames\n",
      "2024-01-18 17:26:12,140 - side4_acqLoop - WARNING - Dropped frame on iter 901 after receiving 900 frames\n",
      "2024-01-18 17:26:13,141 - main_acq_logger - WARNING - Terminating acquisition loop (join timed out)\n",
      "WARNING:main_acq_logger:Terminating acquisition loop (join timed out)\n",
      "2024-01-18 17:26:13,141 - side1_acqLoop - WARNING - Dropped frame on iter 902 after receiving 900 frames\n",
      "2024-01-18 17:26:13,141 - top_acqLoop - WARNING - Dropped frame on iter 902 after receiving 900 frames\n",
      "2024-01-18 17:26:13,141 - bottom_acqLoop - WARNING - Dropped frame on iter 902 after receiving 900 frames\n",
      "2024-01-18 17:26:13,141 - side2_acqLoop - WARNING - Dropped frame on iter 902 after receiving 900 frames\n",
      "2024-01-18 17:26:14,142 - top_acqLoop - WARNING - Dropped frame on iter 903 after receiving 900 frames\n",
      "2024-01-18 17:26:14,142 - bottom_acqLoop - WARNING - Dropped frame on iter 903 after receiving 900 frames\n",
      "2024-01-18 17:26:14,142 - side1_acqLoop - WARNING - Dropped frame on iter 903 after receiving 900 frames\n",
      "2024-01-18 17:26:14,157 - main_acq_logger - WARNING - Terminating acquisition loop (join timed out)\n",
      "WARNING:main_acq_logger:Terminating acquisition loop (join timed out)\n",
      "2024-01-18 17:26:15,156 - bottom_acqLoop - WARNING - Dropped frame on iter 904 after receiving 900 frames\n",
      "2024-01-18 17:26:15,156 - top_acqLoop - WARNING - Dropped frame on iter 904 after receiving 900 frames\n",
      "2024-01-18 17:26:15,171 - main_acq_logger - WARNING - Terminating acquisition loop (join timed out)\n",
      "WARNING:main_acq_logger:Terminating acquisition loop (join timed out)\n",
      "2024-01-18 17:26:16,158 - bottom_acqLoop - WARNING - Dropped frame on iter 905 after receiving 900 frames\n",
      "2024-01-18 17:26:16,174 - main_acq_logger - WARNING - Terminating acquisition loop (join timed out)\n",
      "WARNING:main_acq_logger:Terminating acquisition loop (join timed out)\n",
      "recording progress (s): 16it [00:16,  1.02s/it]                       \n",
      "2024-01-18 17:26:16,423 - main_acq_logger - INFO - Ending processes, this may take a moment...\n",
      "INFO:main_acq_logger:Ending processes, this may take a moment...\n",
      "2024-01-18 17:26:16,423 - main_acq_logger - INFO - Done.\n",
      "INFO:main_acq_logger:Done.\n"
     ]
    },
    {
     "data": {
      "image/png": "[encoded data removed]",
      "text/plain": [
       "<Figure size 1200x300 with 1 Axes>"
      ]
     },
     "metadata": {},
     "output_type": "display_data"
    }
   ],
   "source": [
    "reset_loggers()\n",
    "\n",
    "save_loc, first_video_file_name, full_config = refactor_acquire_video(\n",
    "    tmp_path,\n",
    "    full_config,\n",
    "    recording_duration_s=rec_time_s,\n",
    "    append_datetime=True,\n",
    "    overwrite=False,\n",
    "    logging_level=logging_level\n",
    ")"
   ]
  },
  {
   "cell_type": "code",
   "execution_count": null,
   "id": "7b8ee7aa",
   "metadata": {},
   "outputs": [],
   "source": []
  }
 ],
 "metadata": {
  "kernelspec": {
   "display_name": "multicam",
   "language": "python",
   "name": "python3"
  },
  "language_info": {
   "codemirror_mode": {
    "name": "ipython",
    "version": 3
   },
   "file_extension": ".py",
   "mimetype": "text/x-python",
   "name": "python",
   "nbconvert_exporter": "python",
   "pygments_lexer": "ipython3",
   "version": "3.10.13"
  }
 },
 "nbformat": 4,
 "nbformat_minor": 5
}
