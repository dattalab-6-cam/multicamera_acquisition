{
 "cells": [
  {
   "cell_type": "code",
   "execution_count": 1,
   "id": "8da26fa4-9f29-4c5e-a6dd-7e3bf16d3689",
   "metadata": {},
   "outputs": [],
   "source": [
    "%load_ext autoreload\n",
    "%autoreload 2\n",
    "\n",
    "from multicamera_acquisition.acquisition import refactor_acquire_video, AcquisitionLoop\n",
    "from multicamera_acquisition.writer import NVC_Writer, FFMPEG_Writer\n",
    "from multicamera_acquisition.interfaces.microcontroller import Microcontroller \n",
    "from multicamera_acquisition.interfaces.config import (\n",
    "    partial_config_from_camera_list,\n",
    "    create_full_camera_default_config,\n",
    ")\n"
   ]
  },
  {
   "cell_type": "code",
   "execution_count": 2,
   "id": "b3f29fdc",
   "metadata": {},
   "outputs": [],
   "source": [
    "# Run the func!\n",
    "import logging\n",
    "\n",
    "def reset_loggers():\n",
    "    # Remove handlers from all loggers\n",
    "    for logger in logging.Logger.manager.loggerDict.values():\n",
    "        if isinstance(logger, logging.Logger):  # Guard against 'PlaceHolder' objects\n",
    "            logger.handlers.clear()\n",
    "\n",
    "    # Reset the root logger\n",
    "    logging.getLogger().handlers.clear()"
   ]
  },
  {
   "cell_type": "code",
   "execution_count": 8,
   "id": "c3af494e",
   "metadata": {},
   "outputs": [],
   "source": [
    "camera_list = [\n",
    "    # {\"name\": \"side3\",  \"brand\": \"basler\", \"id\": \"40332773\", \"gain\": 6, \"exposure\": 1000},\n",
    "    # {\"name\": \"side4\",  \"brand\": \"basler\", \"id\": \"40347935\", \"gain\": 6, \"exposure\": 1000},\n",
    "    # {\"name\": \"side2\",  \"brand\": \"basler\", \"id\": \"40347941\", \"gain\": 6, \"exposure\": 1000},\n",
    "    # {\"name\": \"side1\",  \"brand\": \"basler\", \"id\": \"40347943\", \"gain\": 6, \"exposure\": 1000},\n",
    "    {\"name\": \"top\",    \"brand\": \"basler\", \"id\": \"40393557\", \"gain\": 6, \"exposure\": 1000},\n",
    "    {\"name\": \"bottom\", \"brand\": \"basler\", \"id\": \"40393560\", \"gain\": 22, \"exposure\": 1000},\n",
    "    # {\"name\": \"azure_top\",    \"brand\": \"azure\", \"id\": \"000500221712\", \"subordinate_delay_off_master_usec\": 0},\n",
    "    {\"name\": \"azure_bottom\", \"brand\": \"azure\", \"id\": \"000693321712\", \"subordinate_delay_off_master_usec\": 0},    \n",
    "]\n",
    "\n",
    "# Set the trigger behavior\n",
    "for camera in camera_list[:6]:\n",
    "    camera[\"trigger_type\"] = \"microcontroller\"\n",
    "\n",
    "# Recording params\n",
    "fps = 90\n",
    "rec_time_s = 5\n",
    "tmp_path = R'D:\\Jonah\\2023_12_26_6cam_testing\\tmp'\n",
    "logging_level = \"INFO\""
   ]
  },
  {
   "cell_type": "code",
   "execution_count": 9,
   "id": "5cfb810a-8974-4c36-8312-9bb6dbf0a788",
   "metadata": {},
   "outputs": [],
   "source": [
    "# Parse the \"camera list\" into a partial config\n",
    "partial_new_config = partial_config_from_camera_list(camera_list)\n",
    "\n",
    "# Add writer configs to each ir camera config\n",
    "for camera_name in partial_new_config[\"cameras\"].keys():\n",
    "    if partial_new_config[\"cameras\"][camera_name][\"brand\"] != \"basler\":\n",
    "        continue\n",
    "    ir_writer_config = NVC_Writer.default_writer_config(fps).copy()\n",
    "    ir_writer_config[\"camera_name\"] = camera_name\n",
    "    partial_new_config[\"cameras\"][camera_name][\"writer\"] = ir_writer_config\n",
    "\n",
    "# Add writer config for the azure cameras\n",
    "for camera_name in partial_new_config[\"cameras\"].keys():\n",
    "    if partial_new_config[\"cameras\"][camera_name][\"brand\"] != \"azure\":\n",
    "        continue\n",
    "    az_ir_config = FFMPEG_Writer.default_writer_config(30, vid_type=\"ir\", gpu=None).copy()\n",
    "    az_dp_config = FFMPEG_Writer.default_writer_config(30, vid_type=\"depth\", gpu=None).copy()\n",
    "    az_ir_config[\"camera_name\"] = camera_name\n",
    "    az_dp_config[\"camera_name\"] = camera_name\n",
    "    partial_new_config[\"cameras\"][camera_name][\"writer\"] = az_ir_config\n",
    "    partial_new_config[\"cameras\"][camera_name][\"writer_depth\"] = az_dp_config\n",
    "\n"
   ]
  },
  {
   "cell_type": "code",
   "execution_count": 17,
   "id": "1d01ca66",
   "metadata": {},
   "outputs": [],
   "source": [
    "# Create the full config, filling in defaults where necessary\n",
    "full_config = create_full_camera_default_config(partial_new_config, fps)\n",
    "full_config[\"globals\"] = {}\n",
    "full_config[\"globals\"][\"fps\"] = fps\n",
    "full_config[\"globals\"][\"microcontroller_required\"] =True\n",
    "\n",
    "# Set up the acquisition loop part of the config\n",
    "acq_config = AcquisitionLoop.default_acq_loop_config().copy()\n",
    "full_config[\"acq_loop\"] = acq_config\n",
    "\n",
    "# Set up the Microcontroller part of the config\n",
    "full_config[\"microcontroller\"] = Microcontroller.default_microcontroller_config()\n",
    "full_config[\"microcontroller\"][\"top_camera_pins\"] = [1, 5, 7, 9, 11]\n",
    "full_config[\"microcontroller\"][\"bottom_camera_pins\"] = [3]\n",
    "full_config[\"microcontroller\"][\"bottom_camera_offset\"] = -100\n",
    "\n",
    "# Set up Azure part of the config\n",
    "full_config[\"cameras\"][\"azure_bottom\"][\"subordinate_delay_off_master_usec\"] = 0\n",
    "# full_config[\"cameras\"][\"azure_top\"][\"subordinate_delay_off_master_usec\"] = 160"
   ]
  },
  {
   "cell_type": "code",
   "execution_count": 18,
   "id": "aac1d27f",
   "metadata": {},
   "outputs": [],
   "source": [
    "logging_level = \"DEBUG\""
   ]
  },
  {
   "cell_type": "code",
   "execution_count": 19,
   "id": "e409c743",
   "metadata": {},
   "outputs": [
    {
     "name": "stderr",
     "output_type": "stream",
     "text": [
      "2024-01-22 22:53:04,711 - main_acq_logger - DEBUG - Set up main logger.\n",
      "2024-01-22 22:53:04,718 - main_acq_logger - DEBUG - Started mp logging.\n",
      "2024-01-22 22:53:04,718 - main_acq_logger - DEBUG - Have good save location D:\\Jonah\\2023_12_26_6cam_testing\\tmp\\24-01-22-22-53-04-718069\n",
      "Logging level is set to DEBUG, but writer loglevel is not set to debug.  Setting writer loglevel to debug.\n",
      "Logging level is set to DEBUG, but writer loglevel is not set to debug.  Setting writer loglevel to debug.\n",
      "Logging level is set to DEBUG, but writer loglevel is not set to debug.  Setting writer loglevel to debug.\n",
      "WARNING: fps is deprecated for Basler camera configs (unecessary) and azure cameras (only 30 fps supported).\n",
      "2024-01-22 22:53:07,746 - main_acq_logger - INFO - Finding microcontroller...\n",
      "2024-01-22 22:53:08,778 - main_acq_logger - DEBUG - Starting child processes...\n",
      "DEBUG:main_acq_logger:Starting child processes...\n",
      "2024-01-22 22:53:08,794 - main_acq_logger - DEBUG - Waiting for acquisition loop (top) to initialize...\n",
      "DEBUG:main_acq_logger:Waiting for acquisition loop (top) to initialize...\n",
      "2024-01-22 22:53:08,934 - top_writer - DEBUG - Created logger\n",
      "2024-01-22 22:53:08,934 - top_writer - DEBUG - Creating metadata file\n",
      "2024-01-22 22:53:09,355 - top_acqLoop - DEBUG - Started acq loop for top\n",
      "2024-01-22 22:53:09,355 - top_acqLoop - DEBUG - About to initialize camera top\n",
      "2024-01-22 22:53:09,355 - top_acqLoop - DEBUG - Initializing camera top...\n",
      "2024-01-22 22:53:10,057 - top_acqLoop - DEBUG - Waiting for main thread\n",
      "2024-01-22 22:53:10,072 - main_acq_logger - DEBUG - Waiting for acquisition loop (bottom) to initialize...\n",
      "DEBUG:main_acq_logger:Waiting for acquisition loop (bottom) to initialize...\n",
      "2024-01-22 22:53:10,198 - bottom_writer - DEBUG - Created logger\n",
      "2024-01-22 22:53:10,198 - bottom_writer - DEBUG - Creating metadata file\n",
      "2024-01-22 22:53:10,614 - bottom_acqLoop - DEBUG - Started acq loop for bottom\n",
      "2024-01-22 22:53:10,614 - bottom_acqLoop - DEBUG - About to initialize camera bottom\n",
      "2024-01-22 22:53:10,614 - bottom_acqLoop - DEBUG - Initializing camera bottom...\n",
      "2024-01-22 22:53:11,294 - bottom_acqLoop - DEBUG - Waiting for main thread\n",
      "2024-01-22 22:53:11,310 - main_acq_logger - DEBUG - Waiting for acquisition loop (azure_bottom) to initialize...\n",
      "DEBUG:main_acq_logger:Waiting for acquisition loop (azure_bottom) to initialize...\n",
      "2024-01-22 22:53:11,444 - azure_bottom_writer - DEBUG - Created logger\n",
      "2024-01-22 22:53:11,444 - azure_bottom_writer_depth - DEBUG - Created logger\n",
      "2024-01-22 22:53:11,444 - azure_bottom_writer_depth - DEBUG - Creating metadata file\n",
      "2024-01-22 22:53:11,444 - azure_bottom_writer - DEBUG - Creating metadata file\n",
      "2024-01-22 22:53:11,868 - azure_bottom_acqLoop - DEBUG - Started acq loop for azure_bottom\n",
      "2024-01-22 22:53:12,646 - main_acq_logger - INFO - Starting cameras...\n",
      "2024-01-22 22:53:12,646 - azure_bottom_acqLoop - DEBUG - About to initialize camera azure_bottom\n",
      "2024-01-22 22:53:12,646 - azure_bottom_acqLoop - DEBUG - Waiting for main thread\n",
      "INFO:main_acq_logger:Starting cameras...\n",
      "2024-01-22 22:53:12,677 - top_acqLoop - DEBUG - Ready to record\n",
      "2024-01-22 22:53:12,691 - bottom_acqLoop - DEBUG - Ready to record\n",
      "2024-01-22 22:53:13,077 - main_acq_logger - INFO - Starting microcontroller...\n",
      "INFO:main_acq_logger:Starting microcontroller...\n",
      "2024-01-22 22:53:13,077 - azure_bottom_acqLoop - DEBUG - Ready to record\n",
      "2024-01-22 22:53:13,866 - azure_bottom_writer - DEBUG - Created new video pipe\n",
      "2024-01-22 22:53:13,881 - azure_bottom_writer_depth - DEBUG - Created new video pipe\n",
      "2024-01-22 22:53:13,800 - top_writer - DEBUG - encoder dict ({'preset': 'P1', 'codec': 'h264', 's': '1920x1200', 'profile': 'high', 'fps': '90', 'multipass': '0', 'tuning_info': 'ultra_low_latency', 'fmt': 'YUV420', 'idrperiod': '256', 'gop': '30'}\n"
     ]
    },
    {
     "name": "stdout",
     "output_type": "stream",
     "text": [
      "Recording Progress: 0%"
     ]
    },
    {
     "name": "stderr",
     "output_type": "stream",
     "text": [
      "2024-01-22 22:53:13,800 - bottom_writer - DEBUG - encoder dict ({'preset': 'P1', 'codec': 'h264', 's': '1920x1200', 'profile': 'high', 'fps': '90', 'multipass': '0', 'tuning_info': 'ultra_low_latency', 'fmt': 'YUV420', 'idrperiod': '256', 'gop': '30'}\n",
      "2024-01-22 22:53:13,950 - top_writer - DEBUG - Pipe created\n",
      "2024-01-22 22:53:13,950 - top_writer - DEBUG - Created new video pipe\n",
      "2024-01-22 22:53:13,950 - bottom_writer - DEBUG - Pipe created\n",
      "2024-01-22 22:53:13,950 - bottom_writer - DEBUG - Created new video pipe\n"
     ]
    },
    {
     "name": "stdout",
     "output_type": "stream",
     "text": [
      "Recording Progress: 20.0%"
     ]
    },
    {
     "name": "stderr",
     "output_type": "stream",
     "text": [
      "2024-01-22 22:53:18,763 - main_acq_logger - DEBUG - Finished recieved from microcontroller\n",
      "DEBUG:main_acq_logger:Finished recieved from microcontroller\n",
      "2024-01-22 22:53:18,763 - main_acq_logger - DEBUG - stopping acquisition loop (top)\n",
      "DEBUG:main_acq_logger:stopping acquisition loop (top)\n",
      "2024-01-22 22:53:18,763 - main_acq_logger - DEBUG - joining acquisition loop (top)\n",
      "DEBUG:main_acq_logger:joining acquisition loop (top)\n",
      "2024-01-22 22:53:18,781 - top_acqLoop - DEBUG - Received 450 many frames over 539 iterations, top\n",
      "2024-01-22 22:53:18,781 - top_acqLoop - DEBUG - Writing empties to stop queue, top\n",
      "2024-01-22 22:53:18,781 - top_acqLoop - DEBUG - Closing camera top\n",
      "2024-01-22 22:53:18,781 - top_writer - DEBUG - Got stop signal\n",
      "2024-01-22 22:53:18,781 - top_writer - DEBUG - Closing writer pipe (top)\n",
      "2024-01-22 22:53:18,781 - top_writer - DEBUG - Creating muxer process for D:\\Jonah\\2023_12_26_6cam_testing\\tmp\\24-01-22-22-53-04-718069\\24-01-22-22-53-04-718069.top.mp4\n",
      "2024-01-22 22:53:18,781 - top_acqLoop - DEBUG - Camera closed\n",
      "2024-01-22 22:53:18,796 - top_writer - DEBUG - Writer run finished (top)\n",
      "2024-01-22 22:53:18,796 - top_writer - DEBUG - Joining muxer processes\n",
      "2024-01-22 22:53:18,874 - main_acq_logger - DEBUG - stopping acquisition loop (bottom)\n",
      "DEBUG:main_acq_logger:stopping acquisition loop (bottom)\n",
      "2024-01-22 22:53:18,874 - main_acq_logger - DEBUG - joining acquisition loop (bottom)\n",
      "DEBUG:main_acq_logger:joining acquisition loop (bottom)\n",
      "2024-01-22 22:53:18,896 - bottom_acqLoop - DEBUG - Received 450 many frames over 549 iterations, bottom\n",
      "2024-01-22 22:53:18,896 - bottom_acqLoop - DEBUG - Writing empties to stop queue, bottom\n",
      "2024-01-22 22:53:18,896 - bottom_acqLoop - DEBUG - Closing camera bottom\n",
      "2024-01-22 22:53:18,896 - bottom_writer - DEBUG - Got stop signal\n",
      "2024-01-22 22:53:18,896 - bottom_writer - DEBUG - Closing writer pipe (bottom)\n",
      "2024-01-22 22:53:18,896 - bottom_acqLoop - DEBUG - Camera closed\n",
      "2024-01-22 22:53:18,912 - bottom_writer - DEBUG - Creating muxer process for D:\\Jonah\\2023_12_26_6cam_testing\\tmp\\24-01-22-22-53-04-718069\\24-01-22-22-53-04-718069.bottom.mp4\n",
      "2024-01-22 22:53:18,912 - bottom_writer - DEBUG - Writer run finished (bottom)\n",
      "2024-01-22 22:53:18,912 - bottom_writer - DEBUG - Joining muxer processes\n",
      "2024-01-22 22:53:19,004 - main_acq_logger - DEBUG - stopping acquisition loop (azure_bottom)\n",
      "DEBUG:main_acq_logger:stopping acquisition loop (azure_bottom)\n",
      "2024-01-22 22:53:19,004 - main_acq_logger - DEBUG - joining acquisition loop (azure_bottom)\n",
      "DEBUG:main_acq_logger:joining acquisition loop (azure_bottom)\n",
      "2024-01-22 22:53:19,101 - azure_bottom_writer_depth - DEBUG - Got stop signal\n",
      "2024-01-22 22:53:19,101 - azure_bottom_writer_depth - DEBUG - Closing writer pipe (azure_bottom)\n",
      "2024-01-22 22:53:19,101 - azure_bottom_writer_depth - DEBUG - Writer run finished (azure_bottom)\n",
      "2024-01-22 22:53:19,019 - azure_bottom_acqLoop - DEBUG - Received 156 many frames over 385 iterations, azure_bottom\n",
      "2024-01-22 22:53:19,019 - azure_bottom_acqLoop - DEBUG - Writing empties to stop queue, azure_bottom\n",
      "2024-01-22 22:53:19,019 - azure_bottom_acqLoop - DEBUG - Closing camera azure_bottom\n",
      "2024-01-22 22:53:19,325 - azure_bottom_acqLoop - DEBUG - Camera closed\n",
      "2024-01-22 22:53:19,325 - azure_bottom_writer - DEBUG - Got stop signal\n",
      "2024-01-22 22:53:19,325 - azure_bottom_writer - DEBUG - Closing writer pipe (azure_bottom)\n",
      "2024-01-22 22:53:19,325 - azure_bottom_writer - DEBUG - Writer run finished (azure_bottom)\n",
      "2024-01-22 22:53:19,414 - main_acq_logger - DEBUG - Writer exitcode: 0\n",
      "DEBUG:main_acq_logger:Writer exitcode: 0\n",
      "2024-01-22 22:53:19,414 - main_acq_logger - DEBUG - Writer exitcode: 0\n",
      "DEBUG:main_acq_logger:Writer exitcode: 0\n",
      "2024-01-22 22:53:19,414 - main_acq_logger - DEBUG - Writer exitcode: 0\n",
      "DEBUG:main_acq_logger:Writer exitcode: 0\n",
      "2024-01-22 22:53:19,414 - main_acq_logger - DEBUG - Writer exitcode: 0\n",
      "DEBUG:main_acq_logger:Writer exitcode: 0\n",
      "2024-01-22 22:53:19,414 - main_acq_logger - INFO - Ending processes, this may take a moment...\n",
      "INFO:main_acq_logger:Ending processes, this may take a moment...\n",
      "2024-01-22 22:53:19,414 - main_acq_logger - INFO - Done.\n",
      "INFO:main_acq_logger:Done.\n"
     ]
    },
    {
     "name": "stdout",
     "output_type": "stream",
     "text": [
      "Recording Progress: 100%"
     ]
    },
    {
     "data": {
      "image/png": "[encoded data removed]",
      "text/plain": [
       "<Figure size 1200x300 with 1 Axes>"
      ]
     },
     "metadata": {},
     "output_type": "display_data"
    }
   ],
   "source": [
    "reset_loggers()\n",
    "\n",
    "save_loc, first_video_file_name, full_config = refactor_acquire_video(\n",
    "    tmp_path,\n",
    "    full_config,\n",
    "    recording_duration_s=rec_time_s,\n",
    "    append_datetime=True,\n",
    "    overwrite=False,\n",
    "    logging_level=logging_level\n",
    ")"
   ]
  },
  {
   "cell_type": "code",
   "execution_count": null,
   "id": "2bc18277-8f64-4039-8939-fdffc414a78c",
   "metadata": {},
   "outputs": [],
   "source": []
  },
  {
   "cell_type": "code",
   "execution_count": null,
   "id": "8d151637-fd3e-432c-95c1-783d753e3299",
   "metadata": {},
   "outputs": [],
   "source": []
  },
  {
   "cell_type": "code",
   "execution_count": null,
   "id": "c4fc5b43-4334-4a7b-a214-dcdb8203f2a1",
   "metadata": {},
   "outputs": [],
   "source": []
  }
 ],
 "metadata": {
  "kernelspec": {
   "display_name": "Python 3 (ipykernel)",
   "language": "python",
   "name": "python3"
  },
  "language_info": {
   "codemirror_mode": {
    "name": "ipython",
    "version": 3
   },
   "file_extension": ".py",
   "mimetype": "text/x-python",
   "name": "python",
   "nbconvert_exporter": "python",
   "pygments_lexer": "ipython3",
   "version": "3.10.13"
  }
 },
 "nbformat": 4,
 "nbformat_minor": 5
}
