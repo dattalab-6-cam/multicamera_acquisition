{
 "cells": [
  {
   "cell_type": "code",
   "execution_count": 1,
   "id": "8da26fa4-9f29-4c5e-a6dd-7e3bf16d3689",
   "metadata": {},
   "outputs": [],
   "source": [
    "from multicamera_acquisition.acquisition import refactor_acquire_video\n",
    "from multicamera_acquisition.interfaces.config import (\n",
    "    partial_config_from_camera_list,\n",
    "    create_full_camera_default_config,\n",
    ")\n"
   ]
  },
  {
   "cell_type": "code",
   "execution_count": null,
   "id": "5cfb810a-8974-4c36-8312-9bb6dbf0a788",
   "metadata": {},
   "outputs": [],
   "source": [
    "camera_list = [\n",
    "    {\"name\": \"side3\",  \"brand\": \"basler\", \"id\": \"40332773\", \"gain\": 6, \"exposure\": 1000},\n",
    "    {\"name\": \"side4\",  \"brand\": \"basler\", \"id\": \"40347935\", \"gain\": 6, \"exposure\": 1000},\n",
    "    {\"name\": \"side2\",  \"brand\": \"basler\", \"id\": \"40347941\", \"gain\": 6, \"exposure\": 1000},\n",
    "    {\"name\": \"side1\",  \"brand\": \"basler\", \"id\": \"40347943\", \"gain\": 6, \"exposure\": 1000},\n",
    "    {\"name\": \"top\",    \"brand\": \"basler\", \"id\": \"40393557\", \"gain\": 6, \"exposure\": 1000},\n",
    "    {\"name\": \"bottom\", \"brand\": \"basler\", \"id\": \"40393560\", \"gain\": 6, \"exposure\": 1000},\n",
    "    {\"name\": \"azure_top\",    \"brand\": \"azure\", \"id\": \"000500221712\", \"subordinate_delay_off_master_usec\": 0},\n",
    "    {\"name\": \"azure_bottom\", \"brand\": \"azure\", \"id\": \"000694421712\", \"subordinate_delay_off_master_usec\": 160},    \n",
    "]\n",
    "\n",
    "# Set the trigger behavior\n",
    "for camera in camera_list[:6]:\n",
    "    camera[\"trigger_type\"] = \"microcontroller\"\n",
    "\n",
    "# Parse the \"camera list\" into a partial config\n",
    "partial_new_config = partial_config_from_camera_list(camera_list)\n",
    "\n",
    "# Add writer configs to each camera config\n",
    "if writer_type == \"nvc\":\n",
    "    try:\n",
    "        import PyNvCodec as nvc\n",
    "    except ImportError:\n",
    "        pytest.skip(\"PyNvCodec not installed, try running with --writer_type ffmpeg\")\n",
    "    writer_config = NVC_Writer.default_writer_config(fps).copy()\n",
    "elif writer_type == \"ffmpeg\":\n",
    "    writer_config = FFMPEG_Writer.default_writer_config(fps).copy()\n",
    "\n",
    "for camera_name in partial_new_config[\"cameras\"].keys():\n",
    "    writer_config[\"camera_name\"] = camera_name\n",
    "    partial_new_config[\"cameras\"][camera_name][\"writer\"] = writer_config\n",
    "\n",
    "# Create the full config, filling in defaults where necessary\n",
    "full_config = create_full_camera_default_config(partial_new_config, fps)\n",
    "full_config[\"globals\"] = {}\n",
    "full_config[\"globals\"][\"fps\"] = fps\n",
    "full_config[\"globals\"][\"microcontroller_required\"] = (\n",
    "    trigger_type == \"microcontroller\"\n",
    ")\n",
    "\n",
    "# Set up the acquisition loop part of the config\n",
    "acq_config = AcquisitionLoop.default_acq_loop_config().copy()\n",
    "acq_config[\"max_frames_to_acqure\"] = n_test_frames\n",
    "full_config[\"acq_loop\"] = acq_config\n",
    "\n",
    "# Run the func!\n",
    "save_loc, first_video_file_name, full_config = refactor_acquire_video(\n",
    "    tmp_path,\n",
    "    full_config,\n",
    "    recording_duration_s=int(n_test_frames / fps),\n",
    "    append_datetime=True,\n",
    "    overwrite=False,\n",
    "    logging_level=logging_level\n",
    ")\n"
   ]
  }
 ],
 "metadata": {
  "kernelspec": {
   "display_name": "multicam",
   "language": "python",
   "name": "multicam"
  },
  "language_info": {
   "codemirror_mode": {
    "name": "ipython",
    "version": 3
   },
   "file_extension": ".py",
   "mimetype": "text/x-python",
   "name": "python",
   "nbconvert_exporter": "python",
   "pygments_lexer": "ipython3",
   "version": "3.10.13"
  }
 },
 "nbformat": 4,
 "nbformat_minor": 5
}
