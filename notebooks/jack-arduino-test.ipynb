{
 "cells": [
  {
   "cell_type": "code",
   "execution_count": 1,
   "metadata": {},
   "outputs": [],
   "source": [
    "from multicamera_acquisition.interfaces.arduino import Arduino, generate_output_schedule, generate_basler_frametimes"
   ]
  },
  {
   "cell_type": "code",
   "execution_count": 2,
   "metadata": {},
   "outputs": [
    {
     "name": "stdout",
     "output_type": "stream",
     "text": [
      "Trigger VIZ\n"
     ]
    }
   ],
   "source": [
    "arduino = Arduino(basename='foo')"
   ]
  },
  {
   "cell_type": "code",
   "execution_count": 3,
   "metadata": {},
   "outputs": [
    {
     "name": "stdout",
     "output_type": "stream",
     "text": [
      "Received message: \n",
      "Received message: \n",
      "Received message: \n",
      "Received message: \n",
      "Received message: \n",
      "Received message: \n",
      "Received message: \n",
      "Received message: \n",
      "Received message: \n",
      "Received message: READY\n",
      "Fount ready arduino on port: /dev/ttyACM0\n"
     ]
    }
   ],
   "source": [
    "arduino.open_serial_connection()"
   ]
  },
  {
   "cell_type": "code",
   "execution_count": 3,
   "metadata": {},
   "outputs": [],
   "source": [
    "results = arduino.output_schedule"
   ]
  },
  {
   "cell_type": "code",
   "execution_count": 5,
   "metadata": {},
   "outputs": [
    {
     "data": {
      "text/plain": [
       "(88, 88, 88)"
      ]
     },
     "execution_count": 5,
     "metadata": {},
     "output_type": "execute_result"
    }
   ],
   "source": [
    "len(results['top_pins']), len(results['toptimes']), len(results['topstates'])"
   ]
  },
  {
   "cell_type": "code",
   "execution_count": 8,
   "metadata": {},
   "outputs": [
    {
     "name": "stdout",
     "output_type": "stream",
     "text": [
      "2090 11 1\n",
      "2090 16 1\n",
      "2090 17 1\n",
      "2090 20 1\n",
      "2090 21 1\n",
      "2090 22 1\n",
      "2090 23 1\n",
      "3040 11 0\n",
      "3040 16 0\n",
      "3040 17 0\n",
      "3040 20 0\n",
      "3040 21 0\n",
      "3040 22 0\n",
      "3040 23 0\n",
      "10933 11 1\n",
      "10933 16 1\n",
      "10933 17 1\n",
      "10933 20 1\n",
      "10933 21 1\n",
      "10933 22 1\n",
      "10933 23 1\n",
      "11883 11 0\n",
      "11883 16 0\n",
      "11883 17 0\n",
      "11883 20 0\n",
      "11883 21 0\n",
      "11883 22 0\n",
      "11883 23 0\n",
      "18756 11 1\n",
      "18756 16 1\n",
      "18756 17 1\n",
      "18756 20 1\n",
      "18756 21 1\n",
      "18756 22 1\n",
      "18756 23 1\n",
      "19706 11 0\n",
      "19706 16 0\n",
      "19706 17 0\n",
      "19706 20 0\n",
      "19706 21 0\n",
      "19706 22 0\n",
      "19706 23 0\n",
      "27090 11 1\n",
      "27090 16 1\n",
      "27090 17 1\n",
      "27090 20 1\n",
      "27090 21 1\n",
      "27090 22 1\n",
      "27090 23 1\n",
      "28040 11 0\n",
      "28040 16 0\n",
      "28040 17 0\n",
      "28040 20 0\n",
      "28040 21 0\n",
      "28040 22 0\n",
      "28040 23 0\n"
     ]
    }
   ],
   "source": [
    "for time, pin, state in zip(results['bottomtimes'], results['bottom_pins'], results['bottomstates']):\n",
    "    print(time, pin, state)"
   ]
  },
  {
   "cell_type": "code",
   "execution_count": 7,
   "metadata": {},
   "outputs": [
    {
     "name": "stdout",
     "output_type": "stream",
     "text": [
      "340 1 1\n",
      "340 3 1\n",
      "340 5 1\n",
      "340 7 1\n",
      "340 9 1\n",
      "340 38 1\n",
      "340 39 1\n",
      "340 40 1\n",
      "340 41 1\n",
      "340 14 1\n",
      "340 15 1\n",
      "1290 1 0\n",
      "1290 3 0\n",
      "1290 5 0\n",
      "1290 7 0\n",
      "1290 9 0\n",
      "1290 38 0\n",
      "1290 39 0\n",
      "1290 40 0\n",
      "1290 41 0\n",
      "1290 14 0\n",
      "1290 15 0\n",
      "9183 1 1\n",
      "9183 3 1\n",
      "9183 5 1\n",
      "9183 7 1\n",
      "9183 9 1\n",
      "9183 38 1\n",
      "9183 39 1\n",
      "9183 40 1\n",
      "9183 41 1\n",
      "9183 14 1\n",
      "9183 15 1\n",
      "10133 1 0\n",
      "10133 3 0\n",
      "10133 5 0\n",
      "10133 7 0\n",
      "10133 9 0\n",
      "10133 38 0\n",
      "10133 39 0\n",
      "10133 40 0\n",
      "10133 41 0\n",
      "10133 14 0\n",
      "10133 15 0\n",
      "17006 1 1\n",
      "17006 3 1\n",
      "17006 5 1\n",
      "17006 7 1\n",
      "17006 9 1\n",
      "17006 38 1\n",
      "17006 39 1\n",
      "17006 40 1\n",
      "17006 41 1\n",
      "17006 14 1\n",
      "17006 15 1\n",
      "17956 1 0\n",
      "17956 3 0\n",
      "17956 5 0\n",
      "17956 7 0\n",
      "17956 9 0\n",
      "17956 38 0\n",
      "17956 39 0\n",
      "17956 40 0\n",
      "17956 41 0\n",
      "17956 14 0\n",
      "17956 15 0\n",
      "25340 1 1\n",
      "25340 3 1\n",
      "25340 5 1\n",
      "25340 7 1\n",
      "25340 9 1\n",
      "25340 38 1\n",
      "25340 39 1\n",
      "25340 40 1\n",
      "25340 41 1\n",
      "25340 14 1\n",
      "25340 15 1\n",
      "26290 1 0\n",
      "26290 3 0\n",
      "26290 5 0\n",
      "26290 7 0\n",
      "26290 9 0\n",
      "26290 38 0\n",
      "26290 39 0\n",
      "26290 40 0\n",
      "26290 41 0\n",
      "26290 14 0\n",
      "26290 15 0\n"
     ]
    }
   ],
   "source": [
    "for time, pin, state in zip(results['toptimes'], results['top_pins'], results['topstates']):\n",
    "    print(time, pin, state)"
   ]
  },
  {
   "cell_type": "code",
   "execution_count": 8,
   "metadata": {},
   "outputs": [],
   "source": [
    "config = arduino.config"
   ]
  },
  {
   "cell_type": "code",
   "execution_count": 9,
   "metadata": {},
   "outputs": [],
   "source": [
    "top_pins = (config[\"top_camera_pins\"] + config[\"top_light_pins\"]) * len(results['toptimes_og'])"
   ]
  },
  {
   "cell_type": "code",
   "execution_count": 10,
   "metadata": {},
   "outputs": [
    {
     "data": {
      "text/plain": [
       "['1', '3', '5', '7', '9', '38', '39', '40', '41', '14', '15']"
      ]
     },
     "execution_count": 10,
     "metadata": {},
     "output_type": "execute_result"
    }
   ],
   "source": [
    "top_pins[11:22]"
   ]
  },
  {
   "cell_type": "code",
   "execution_count": 11,
   "metadata": {},
   "outputs": [
    {
     "data": {
      "text/plain": [
       "['1', '3', '5', '7', '9', '38', '39', '40', '41', '14', '15']"
      ]
     },
     "execution_count": 11,
     "metadata": {},
     "output_type": "execute_result"
    }
   ],
   "source": [
    "top_pins[:11]"
   ]
  },
  {
   "cell_type": "code",
   "execution_count": 12,
   "metadata": {},
   "outputs": [
    {
     "data": {
      "text/plain": [
       "8"
      ]
     },
     "execution_count": 12,
     "metadata": {},
     "output_type": "execute_result"
    }
   ],
   "source": [
    "len(results['toptimes_og'])"
   ]
  },
  {
   "cell_type": "code",
   "execution_count": 13,
   "metadata": {},
   "outputs": [
    {
     "ename": "NameError",
     "evalue": "name 'generate_output_schedule2' is not defined",
     "output_type": "error",
     "traceback": [
      "\u001b[0;31m---------------------------------------------------------------------------\u001b[0m",
      "\u001b[0;31mNameError\u001b[0m                                 Traceback (most recent call last)",
      "Cell \u001b[0;32mIn[13], line 1\u001b[0m\n\u001b[0;32m----> 1\u001b[0m results \u001b[38;5;241m=\u001b[39m \u001b[43mgenerate_output_schedule2\u001b[49m(arduino\u001b[38;5;241m.\u001b[39mconfig)\n",
      "\u001b[0;31mNameError\u001b[0m: name 'generate_output_schedule2' is not defined"
     ]
    }
   ],
   "source": [
    "results = generate_output_schedule2(arduino.config)"
   ]
  },
  {
   "cell_type": "code",
   "execution_count": 14,
   "metadata": {},
   "outputs": [
    {
     "name": "stdout",
     "output_type": "stream",
     "text": [
      "340 1 1\n",
      "340 3 1\n",
      "340 5 1\n",
      "340 7 1\n",
      "340 9 1\n",
      "340 38 1\n",
      "340 39 1\n",
      "340 40 1\n",
      "340 41 1\n",
      "340 14 1\n",
      "340 15 1\n",
      "1290 1 0\n",
      "1290 3 0\n",
      "1290 5 0\n",
      "1290 7 0\n",
      "1290 9 0\n",
      "1290 38 0\n",
      "1290 39 0\n",
      "1290 40 0\n",
      "1290 41 0\n",
      "1290 14 0\n",
      "1290 15 0\n",
      "9183 1 1\n",
      "9183 3 1\n",
      "9183 5 1\n",
      "9183 7 1\n",
      "9183 9 1\n",
      "9183 38 1\n",
      "9183 39 1\n",
      "9183 40 1\n",
      "9183 41 1\n",
      "9183 14 1\n",
      "9183 15 1\n",
      "9623 1 0\n",
      "9623 3 0\n",
      "9623 5 0\n",
      "9623 7 0\n",
      "9623 9 0\n",
      "9623 38 0\n",
      "9623 39 0\n",
      "9623 40 0\n",
      "9623 41 0\n",
      "9623 14 0\n",
      "9623 15 0\n",
      "17006 1 1\n",
      "17006 3 1\n",
      "17006 5 1\n",
      "17006 7 1\n",
      "17006 9 1\n",
      "17006 38 1\n",
      "17006 39 1\n",
      "17006 40 1\n",
      "17006 41 1\n",
      "17006 14 1\n",
      "17006 15 1\n",
      "17956 1 0\n",
      "17956 3 0\n",
      "17956 5 0\n",
      "17956 7 0\n",
      "17956 9 0\n",
      "17956 38 0\n",
      "17956 39 0\n",
      "17956 40 0\n",
      "17956 41 0\n",
      "17956 14 0\n",
      "17956 15 0\n",
      "25340 1 1\n",
      "25340 3 1\n",
      "25340 5 1\n",
      "25340 7 1\n",
      "25340 9 1\n",
      "25340 38 1\n",
      "25340 39 1\n",
      "25340 40 1\n",
      "25340 41 1\n",
      "25340 14 1\n",
      "25340 15 1\n",
      "26290 1 0\n",
      "26290 3 0\n",
      "26290 5 0\n",
      "26290 7 0\n",
      "26290 9 0\n",
      "26290 38 0\n",
      "26290 39 0\n",
      "26290 40 0\n",
      "26290 41 0\n",
      "26290 14 0\n",
      "26290 15 0\n"
     ]
    }
   ],
   "source": [
    "for t, p, s in zip(results['toptimes'], results['top_pins'], results['topstates']):\n",
    "    print(t, p, s)"
   ]
  },
  {
   "cell_type": "code",
   "execution_count": 32,
   "metadata": {},
   "outputs": [
    {
     "data": {
      "text/plain": [
       "[340,\n",
       " 340,\n",
       " 340,\n",
       " 340,\n",
       " 340,\n",
       " 340,\n",
       " 340,\n",
       " 340,\n",
       " 340,\n",
       " 340,\n",
       " 340,\n",
       " 1290,\n",
       " 1290,\n",
       " 1290,\n",
       " 1290,\n",
       " 1290,\n",
       " 1290,\n",
       " 1290,\n",
       " 1290,\n",
       " 1290,\n",
       " 1290,\n",
       " 1290,\n",
       " 9183,\n",
       " 9183,\n",
       " 9183,\n",
       " 9183,\n",
       " 9183,\n",
       " 9183,\n",
       " 9183,\n",
       " 9183,\n",
       " 9183,\n",
       " 9183,\n",
       " 9183,\n",
       " 9623,\n",
       " 9623,\n",
       " 9623,\n",
       " 9623,\n",
       " 9623,\n",
       " 9623,\n",
       " 9623,\n",
       " 9623,\n",
       " 9623,\n",
       " 9623,\n",
       " 9623,\n",
       " 17006,\n",
       " 17006,\n",
       " 17006,\n",
       " 17006,\n",
       " 17006,\n",
       " 17006,\n",
       " 17006,\n",
       " 17006,\n",
       " 17006,\n",
       " 17006,\n",
       " 17006,\n",
       " 17956,\n",
       " 17956,\n",
       " 17956,\n",
       " 17956,\n",
       " 17956,\n",
       " 17956,\n",
       " 17956,\n",
       " 17956,\n",
       " 17956,\n",
       " 17956,\n",
       " 17956,\n",
       " 25340,\n",
       " 25340,\n",
       " 25340,\n",
       " 25340,\n",
       " 25340,\n",
       " 25340,\n",
       " 25340,\n",
       " 25340,\n",
       " 25340,\n",
       " 25340,\n",
       " 25340,\n",
       " 26290,\n",
       " 26290,\n",
       " 26290,\n",
       " 26290,\n",
       " 26290,\n",
       " 26290,\n",
       " 26290,\n",
       " 26290,\n",
       " 26290,\n",
       " 26290,\n",
       " 26290]"
      ]
     },
     "execution_count": 32,
     "metadata": {},
     "output_type": "execute_result"
    }
   ],
   "source": [
    "results['toptimes']"
   ]
  },
  {
   "cell_type": "code",
   "execution_count": 16,
   "metadata": {},
   "outputs": [],
   "source": [
    "import numpy as np"
   ]
  },
  {
   "cell_type": "code",
   "execution_count": 19,
   "metadata": {},
   "outputs": [
    {
     "data": {
      "text/plain": [
       "11"
      ]
     },
     "execution_count": 19,
     "metadata": {},
     "output_type": "execute_result"
    }
   ],
   "source": [
    "sum([True for x in toptimes if x == 340])"
   ]
  },
  {
   "cell_type": "code",
   "execution_count": 22,
   "metadata": {},
   "outputs": [
    {
     "data": {
      "text/plain": [
       "11"
      ]
     },
     "execution_count": 22,
     "metadata": {},
     "output_type": "execute_result"
    }
   ],
   "source": [
    "len(arduino.config[\"top_camera_pins\"] + arduino.config[\"top_light_pins\"])"
   ]
  },
  {
   "cell_type": "code",
   "execution_count": null,
   "metadata": {},
   "outputs": [],
   "source": []
  },
  {
   "cell_type": "code",
   "execution_count": 18,
   "metadata": {},
   "outputs": [
    {
     "data": {
      "text/plain": [
       "[340,\n",
       " 340,\n",
       " 340,\n",
       " 340,\n",
       " 340,\n",
       " 340,\n",
       " 340,\n",
       " 340,\n",
       " 340,\n",
       " 340,\n",
       " 340,\n",
       " 1290,\n",
       " 1290,\n",
       " 1290,\n",
       " 1290,\n",
       " 1290,\n",
       " 1290,\n",
       " 1290,\n",
       " 1290,\n",
       " 1290,\n",
       " 1290,\n",
       " 1290,\n",
       " 9183,\n",
       " 9183,\n",
       " 9183,\n",
       " 9183,\n",
       " 9183,\n",
       " 9183,\n",
       " 9183,\n",
       " 9183,\n",
       " 9183,\n",
       " 9183,\n",
       " 9183,\n",
       " 9623,\n",
       " 9623,\n",
       " 9623,\n",
       " 9623,\n",
       " 9623,\n",
       " 9623,\n",
       " 9623,\n",
       " 9623,\n",
       " 9623,\n",
       " 9623,\n",
       " 9623,\n",
       " 17006,\n",
       " 17006,\n",
       " 17006,\n",
       " 17006,\n",
       " 17006,\n",
       " 17006,\n",
       " 17006,\n",
       " 17006,\n",
       " 17006,\n",
       " 17006,\n",
       " 17006,\n",
       " 17956,\n",
       " 17956,\n",
       " 17956,\n",
       " 17956,\n",
       " 17956,\n",
       " 17956,\n",
       " 17956,\n",
       " 17956,\n",
       " 17956,\n",
       " 17956,\n",
       " 17956,\n",
       " 25340,\n",
       " 25340,\n",
       " 25340,\n",
       " 25340,\n",
       " 25340,\n",
       " 25340,\n",
       " 25340,\n",
       " 25340,\n",
       " 25340,\n",
       " 25340,\n",
       " 25340,\n",
       " 26290,\n",
       " 26290,\n",
       " 26290,\n",
       " 26290,\n",
       " 26290,\n",
       " 26290,\n",
       " 26290,\n",
       " 26290,\n",
       " 26290,\n",
       " 26290,\n",
       " 26290]"
      ]
     },
     "execution_count": 18,
     "metadata": {},
     "output_type": "execute_result"
    }
   ],
   "source": [
    "toptimes"
   ]
  },
  {
   "cell_type": "code",
   "execution_count": null,
   "metadata": {},
   "outputs": [],
   "source": []
  }
 ],
 "metadata": {
  "kernelspec": {
   "display_name": "Python 3 (ipykernel)",
   "language": "python",
   "name": "python3"
  },
  "language_info": {
   "codemirror_mode": {
    "name": "ipython",
    "version": 3
   },
   "file_extension": ".py",
   "mimetype": "text/x-python",
   "name": "python",
   "nbconvert_exporter": "python",
   "pygments_lexer": "ipython3",
   "version": "3.10.13"
  }
 },
 "nbformat": 4,
 "nbformat_minor": 4
}
