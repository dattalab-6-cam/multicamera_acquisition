{
 "cells": [
  {
   "cell_type": "code",
   "execution_count": 1,
   "metadata": {},
   "outputs": [],
   "source": [
    "from multicamera_acquisition.config import load_config, save_config"
   ]
  },
  {
   "cell_type": "markdown",
   "metadata": {},
   "source": [
    "Here, we added a new required camera parameter \"gamma\", so I update the cameras to have that in my config."
   ]
  },
  {
   "cell_type": "code",
   "execution_count": 5,
   "metadata": {},
   "outputs": [],
   "source": [
    "old_config_path = R\"C:\\Users\\Datta\\Documents\\Jonah\\20240125_pbn-tac1_photom\\20240126.recording_config.yaml\"\n",
    "new_config_path = R\"C:\\Users\\Datta\\Documents\\Jonah\\20240125_pbn-tac1_photom\\20240310.recording_config.yaml\"\n",
    "\n",
    "# old_config_path = R\"C:\\Users\\Datta\\Documents\\Jonah\\\\20240125_CoA_hM4Di_6cam\\20240126.recording_config.yaml\"\n",
    "# new_config_path = R\"C:\\Users\\Datta\\Documents\\Jonah\\\\20240125_CoA_hM4Di_6cam\\20240310.recording_config.yaml\""
   ]
  },
  {
   "cell_type": "code",
   "execution_count": 6,
   "metadata": {},
   "outputs": [],
   "source": [
    "config = load_config(old_config_path)"
   ]
  },
  {
   "cell_type": "code",
   "execution_count": 7,
   "metadata": {},
   "outputs": [],
   "source": [
    "for camera_name, camera_info in config['cameras'].items():\n",
    "    camera_info['gamma'] = 1\n",
    "    camera_info['writer'][\"rc\"] = \"cbr\"\n",
    "    camera_info['writer'][\"bitrate\"] = \"10M\"\n",
    "    camera_info['writer'][\"max_video_frames\"] = None\n",
    "    if \"writer_depth\" in camera_info:\n",
    "        camera_info['writer_depth'][\"max_video_frames\"] = None\n",
    "\n",
    "\n"
   ]
  },
  {
   "cell_type": "code",
   "execution_count": 8,
   "metadata": {},
   "outputs": [],
   "source": [
    "save_config(new_config_path, config)"
   ]
  },
  {
   "cell_type": "code",
   "execution_count": null,
   "metadata": {},
   "outputs": [],
   "source": []
  },
  {
   "cell_type": "code",
   "execution_count": null,
   "metadata": {},
   "outputs": [],
   "source": []
  }
 ],
 "metadata": {
  "kernelspec": {
   "display_name": "multicam",
   "language": "python",
   "name": "python3"
  },
  "language_info": {
   "codemirror_mode": {
    "name": "ipython",
    "version": 3
   },
   "file_extension": ".py",
   "mimetype": "text/x-python",
   "name": "python",
   "nbconvert_exporter": "python",
   "pygments_lexer": "ipython3",
   "version": "3.10.13"
  }
 },
 "nbformat": 4,
 "nbformat_minor": 2
}
