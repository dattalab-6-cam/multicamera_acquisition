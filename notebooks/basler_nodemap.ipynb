{
 "cells": [
  {
   "cell_type": "code",
   "execution_count": 1,
   "metadata": {},
   "outputs": [],
   "source": [
    "from multicamera_acquisition.interfaces.camera_basler import BaslerCamera\n",
    "import pypylon.genicam as geni\n"
   ]
  },
  {
   "cell_type": "code",
   "execution_count": 2,
   "metadata": {},
   "outputs": [],
   "source": [
    "camera = BaslerCamera(0)\n",
    "camera.init()"
   ]
  },
  {
   "cell_type": "code",
   "execution_count": 4,
   "metadata": {},
   "outputs": [],
   "source": [
    "node_map: geni.INodeMap = camera.cam.GetNodeMap()"
   ]
  },
  {
   "cell_type": "code",
   "execution_count": 22,
   "metadata": {},
   "outputs": [],
   "source": [
    "def node_info(name):\n",
    "    node = node_map.GetNode(name)\n",
    "    assert geni.IsImplemented(node)\n",
    "    print(f\"List of Available Symbolics: {node.Symbolics}\")"
   ]
  },
  {
   "cell_type": "code",
   "execution_count": 25,
   "metadata": {},
   "outputs": [
    {
     "name": "stdout",
     "output_type": "stream",
     "text": [
      "List of Available Symbolics: ('Off', 'Once', 'Continuous')\n"
     ]
    }
   ],
   "source": [
    "node_info(\"GainAuto\")"
   ]
  },
  {
   "cell_type": "code",
   "execution_count": 35,
   "metadata": {},
   "outputs": [
    {
     "name": "stdout",
     "output_type": "stream",
     "text": [
      "<pypylon.genicam.IBoolean; proxy of <Swig Object of type 'GENAPI_NAMESPACE::IBoolean *' at 0x0000017725FDCCF0> >\n",
      "('AutoBrightnessStatus', 'CounterValue', 'ExposureTime', 'FrameID', 'Gain', 'LineStatusAll', 'PayloadCRC16', 'Timestamp')\n",
      "<pypylon.genicam.IBoolean; proxy of <Swig Object of type 'GENAPI_NAMESPACE::IBoolean *' at 0x0000017725FDCDB0> >\n"
     ]
    }
   ],
   "source": [
    "print(node_map.GetNode(\"ChunkModeActive\"))\n",
    "print(node_map.GetNode(\"ChunkSelector\").Symbolics)\n",
    "print(node_map.GetNode(\"ChunkEnable\"))"
   ]
  }
 ],
 "metadata": {
  "kernelspec": {
   "display_name": "multicam",
   "language": "python",
   "name": "python3"
  },
  "language_info": {
   "codemirror_mode": {
    "name": "ipython",
    "version": 3
   },
   "file_extension": ".py",
   "mimetype": "text/x-python",
   "name": "python",
   "nbconvert_exporter": "python",
   "pygments_lexer": "ipython3",
   "version": "3.10.13"
  }
 },
 "nbformat": 4,
 "nbformat_minor": 2
}
