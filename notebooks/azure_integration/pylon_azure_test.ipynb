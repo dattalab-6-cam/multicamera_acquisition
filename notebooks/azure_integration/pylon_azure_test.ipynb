{
 "cells": [
  {
   "cell_type": "code",
   "execution_count": null,
   "metadata": {},
   "outputs": [],
   "source": [
    "import numpy as np\n",
    "import subprocess\n",
    "from datetime import datetime, timedelta\n",
    "import multiprocessing as mp\n",
    "import sys, time\n",
    "from countdown import countdown\n",
    "import av\n",
    "import glob\n",
    "import serial\n",
    "from tqdm import tqdm\n",
    "import numpy as np\n",
    "import matplotlib.pyplot as plt\n",
    "import os, time, serial, glob, struct"
   ]
  },
  {
   "cell_type": "code",
   "execution_count": null,
   "metadata": {},
   "outputs": [],
   "source": [
    "from multicamera_acquisition.interfaces.arduino import (\n",
    "    packIntAsLong,\n",
    "    wait_for_serial_confirmation,\n",
    ")\n",
    "\n",
    "from multicamera_acquisition.interfaces import get_camera\n",
    "from multicamera_acquisition.video_io import write_frame\n",
    "from multicamera_acquisition.paths import ensure_dir\n",
    "from multicamera_acquisition.acquisition import acquire_video\n",
    "\n",
    "from pypylon import pylon"
   ]
  },
  {
   "cell_type": "code",
   "execution_count": null,
   "metadata": {},
   "outputs": [],
   "source": [
    "def packIntAsLong(value):\n",
    "    \"\"\"Packs a python 4 byte integer to an arduino long\"\"\"\n",
    "    return struct.pack('i', value)\n",
    "\n",
    "    \n",
    "def get_timing_params(duration, framerate, exposure_time, buffer=50):\n",
    "    \n",
    "    inv_framerate = int(1e6/framerate)\n",
    "    num_cycles = int(duration * framerate / 2)\n",
    "    \n",
    "    params = (\n",
    "        num_cycles,\n",
    "        exposure_time,\n",
    "        inv_framerate,\n",
    "    )\n",
    "    \n",
    "    return params\n",
    "    \n"
   ]
  },
  {
   "cell_type": "code",
   "execution_count": null,
   "metadata": {},
   "outputs": [],
   "source": [
    "%load_ext autoreload\n",
    "%autoreload 2\n",
    "\n"
   ]
  },
  {
   "attachments": {},
   "cell_type": "markdown",
   "metadata": {},
   "source": [
    "## Set up the camera"
   ]
  },
  {
   "cell_type": "code",
   "execution_count": null,
   "metadata": {},
   "outputs": [],
   "source": [
    "# cam = get_camera(brand='pylon', exposure_time=1000, readout_mode='Normal')\n",
    "\n",
    "\n",
    "recording_duration_s = 10\n",
    "exposure_time = 1000\n",
    "save_location = './tmp'\n",
    "\n",
    "camera_list = [\n",
    "    {'name': 'top', 'serial': 24535665, 'brand':'basler', 'gain': 12, \"display\":True},\n",
    "    {'name': 'side1', 'serial': 24548223, 'brand':'basler', 'gain': 12, \"display\":False},\n",
    "]"
   ]
  },
  {
   "cell_type": "code",
   "execution_count": null,
   "metadata": {},
   "outputs": [],
   "source": [
    "acquire_video(\n",
    "    save_location,\n",
    "    camera_list,\n",
    "    # framerate = 30,\n",
    "    exposure_time = exposure_time,\n",
    "    recording_duration_s = 10,\n",
    "    serial_timeout_duration_s=0.1,\n",
    "    overwrite=False,\n",
    "    append_datetime=True,\n",
    ")"
   ]
  }
 ],
 "metadata": {
  "kernelspec": {
   "display_name": "dataPy",
   "language": "python",
   "name": "python3"
  },
  "language_info": {
   "name": "python",
   "version": "3.9.13"
  },
  "orig_nbformat": 4,
  "vscode": {
   "interpreter": {
    "hash": "c6042100894abde48f34597d4a2bff7f3009141664e742af4487c9ba5df15db0"
   }
  }
 },
 "nbformat": 4,
 "nbformat_minor": 2
}
