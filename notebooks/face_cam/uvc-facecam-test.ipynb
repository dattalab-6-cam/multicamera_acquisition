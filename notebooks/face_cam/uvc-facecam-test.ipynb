{
 "cells": [
  {
   "cell_type": "code",
   "execution_count": 7,
   "id": "4a498333",
   "metadata": {},
   "outputs": [],
   "source": [
    "from multicamera_acquisition.paths import DATA_DIR\n",
    "from multicamera_acquisition.acquisition import AcquisitionLoop\n",
    "from multicamera_acquisition.interfaces.camera_uvc import UVCCamera as Camera\n",
    "from multicamera_acquisition.writer import FFMPEG_Writer as Writer\n",
    "from multicamera_acquisition.video_utils import count_frames\n",
    "import time\n",
    "from datetime import datetime\n",
    "import multiprocessing as mp"
   ]
  },
  {
   "cell_type": "code",
   "execution_count": 8,
   "id": "00e56b61",
   "metadata": {},
   "outputs": [],
   "source": [
    "save_location = DATA_DIR / 'tests'\n",
    "fps = 210\n",
    "duration = 10000 # msec"
   ]
  },
  {
   "cell_type": "code",
   "execution_count": 9,
   "id": "59c507e5",
   "metadata": {},
   "outputs": [],
   "source": [
    "camera_config = Camera.default_camera_config().copy()\n",
    "camera_config[\"name\"] = \"test_camera\"\n",
    "camera_config[\"fps\"] = fps\n",
    "file_name = f'{camera_config[\"name\"]}_{datetime.now().strftime(\"%Y%m%d_%H%M%S\")}'"
   ]
  },
  {
   "cell_type": "code",
   "execution_count": 10,
   "id": "d8d71f3d",
   "metadata": {},
   "outputs": [],
   "source": [
    "write_queue = mp.Queue()\n",
    "writer_config = Writer.default_writer_config(fps).copy()\n",
    "writer_config[\"camera_name\"] = camera_config[\"name\"]\n",
    "writer = Writer(write_queue, \n",
    "                video_file_name=save_location / f\"{file_name}.mp4\",\n",
    "                metadata_file_name=save_location / f\"{file_name}.csv\",\n",
    "                config=writer_config)"
   ]
  },
  {
   "cell_type": "code",
   "execution_count": 11,
   "id": "3d423e37",
   "metadata": {},
   "outputs": [],
   "source": [
    "acq_config = AcquisitionLoop.default_acq_loop_config().copy()\n",
    "acq_config[\"max_frames_to_acquire\"] = int(fps * duration / 1000)\n",
    "acq_loop = AcquisitionLoop(write_queue=write_queue,\n",
    "                           display_queue=None,\n",
    "                           camera_device_index=None,\n",
    "                           camera_config=camera_config,\n",
    "                           acq_loop_config=acq_config,\n",
    "                           fps=fps)"
   ]
  },
  {
   "cell_type": "code",
   "execution_count": 12,
   "id": "70e15818",
   "metadata": {},
   "outputs": [
    {
     "name": "stderr",
     "output_type": "stream",
     "text": [
      "/Users/brianxu/Documents/github/multicamera_acquisition/multicamera_acquisition/interfaces/camera_azure.py:18: UserWarning: pyk4a not installed.  Azure cameras will not be available.\n",
      "  warnings.warn(\"pyk4a not installed.  Azure cameras will not be available.\")\n",
      "Traceback (most recent call last):\n",
      "  File \"/Users/brianxu/Documents/github/multicamera_acquisition/multicamera_acquisition/interfaces/camera_uvc.py\", line 192, in _create_uvc_cam\n",
      "    self.cam = self.system.Capture(devices[self.device_index]['uid'])\n",
      "  File \"uvc_bindings.pyx\", line 539, in uvc_bindings.Capture.__init__\n",
      "  File \"uvc_bindings.pyx\", line 595, in uvc_bindings.Capture._init_device\n",
      "uvc_bindings.OpenError: Could not open device. Error: Access denied\n",
      "\n",
      "During handling of the above exception, another exception occurred:\n",
      "\n",
      "Traceback (most recent call last):\n",
      "  File \"/Users/brianxu/Documents/github/multicamera_acquisition/multicamera_acquisition/interfaces/camera_uvc.py\", line 169, in init\n",
      "    self._create_uvc_cam()\n",
      "  File \"/Users/brianxu/Documents/github/multicamera_acquisition/multicamera_acquisition/interfaces/camera_uvc.py\", line 194, in _create_uvc_cam\n",
      "    raise RuntimeError(\n",
      "RuntimeError: (Real) UVC camera with id 0 and serial None failed to open: Could not open device. Error: Access denied\n",
      "\n",
      "Process AcquisitionLoop-4:\n",
      "Traceback (most recent call last):\n",
      "  File \"/Users/brianxu/Documents/github/multicamera_acquisition/multicamera_acquisition/interfaces/camera_uvc.py\", line 192, in _create_uvc_cam\n",
      "    self.cam = self.system.Capture(devices[self.device_index]['uid'])\n",
      "  File \"uvc_bindings.pyx\", line 539, in uvc_bindings.Capture.__init__\n",
      "  File \"uvc_bindings.pyx\", line 595, in uvc_bindings.Capture._init_device\n",
      "uvc_bindings.OpenError: Could not open device. Error: Access denied\n",
      "\n",
      "During handling of the above exception, another exception occurred:\n",
      "\n",
      "Traceback (most recent call last):\n",
      "  File \"/Users/brianxu/miniforge3/envs/headcam/lib/python3.9/multiprocessing/process.py\", line 315, in _bootstrap\n",
      "    self.run()\n",
      "  File \"/Users/brianxu/Documents/github/multicamera_acquisition/multicamera_acquisition/acquisition.py\", line 201, in run\n",
      "    cam.init()\n",
      "  File \"/Users/brianxu/Documents/github/multicamera_acquisition/multicamera_acquisition/interfaces/camera_uvc.py\", line 178, in init\n",
      "    raise e\n",
      "  File \"/Users/brianxu/Documents/github/multicamera_acquisition/multicamera_acquisition/interfaces/camera_uvc.py\", line 169, in init\n",
      "    self._create_uvc_cam()\n",
      "  File \"/Users/brianxu/Documents/github/multicamera_acquisition/multicamera_acquisition/interfaces/camera_uvc.py\", line 194, in _create_uvc_cam\n",
      "    raise RuntimeError(\n",
      "RuntimeError: (Real) UVC camera with id 0 and serial None failed to open: Could not open device. Error: Access denied\n"
     ]
    },
    {
     "ename": "KeyboardInterrupt",
     "evalue": "",
     "output_type": "error",
     "traceback": [
      "\u001b[0;31m---------------------------------------------------------------------------\u001b[0m",
      "\u001b[0;31mKeyboardInterrupt\u001b[0m                         Traceback (most recent call last)",
      "Cell \u001b[0;32mIn[12], line 5\u001b[0m\n\u001b[1;32m      2\u001b[0m writer\u001b[38;5;241m.\u001b[39mstart()\n\u001b[1;32m      4\u001b[0m acq_loop\u001b[38;5;241m.\u001b[39mstart()\n\u001b[0;32m----> 5\u001b[0m \u001b[43macq_loop\u001b[49m\u001b[38;5;241;43m.\u001b[39;49m\u001b[43mawait_process\u001b[49m\u001b[38;5;241;43m.\u001b[39;49m\u001b[43mwait\u001b[49m\u001b[43m(\u001b[49m\u001b[43m)\u001b[49m\n\u001b[1;32m      6\u001b[0m acq_loop\u001b[38;5;241m.\u001b[39mawait_main_thread\u001b[38;5;241m.\u001b[39mset()\n\u001b[1;32m      7\u001b[0m acq_loop\u001b[38;5;241m.\u001b[39mawait_process\u001b[38;5;241m.\u001b[39mwait()\n",
      "File \u001b[0;32m~/miniforge3/envs/headcam/lib/python3.9/multiprocessing/synchronize.py:349\u001b[0m, in \u001b[0;36mEvent.wait\u001b[0;34m(self, timeout)\u001b[0m\n\u001b[1;32m    347\u001b[0m     \u001b[38;5;28mself\u001b[39m\u001b[38;5;241m.\u001b[39m_flag\u001b[38;5;241m.\u001b[39mrelease()\n\u001b[1;32m    348\u001b[0m \u001b[38;5;28;01melse\u001b[39;00m:\n\u001b[0;32m--> 349\u001b[0m     \u001b[38;5;28;43mself\u001b[39;49m\u001b[38;5;241;43m.\u001b[39;49m\u001b[43m_cond\u001b[49m\u001b[38;5;241;43m.\u001b[39;49m\u001b[43mwait\u001b[49m\u001b[43m(\u001b[49m\u001b[43mtimeout\u001b[49m\u001b[43m)\u001b[49m\n\u001b[1;32m    351\u001b[0m \u001b[38;5;28;01mif\u001b[39;00m \u001b[38;5;28mself\u001b[39m\u001b[38;5;241m.\u001b[39m_flag\u001b[38;5;241m.\u001b[39macquire(\u001b[38;5;28;01mFalse\u001b[39;00m):\n\u001b[1;32m    352\u001b[0m     \u001b[38;5;28mself\u001b[39m\u001b[38;5;241m.\u001b[39m_flag\u001b[38;5;241m.\u001b[39mrelease()\n",
      "File \u001b[0;32m~/miniforge3/envs/headcam/lib/python3.9/multiprocessing/synchronize.py:261\u001b[0m, in \u001b[0;36mCondition.wait\u001b[0;34m(self, timeout)\u001b[0m\n\u001b[1;32m    257\u001b[0m     \u001b[38;5;28mself\u001b[39m\u001b[38;5;241m.\u001b[39m_lock\u001b[38;5;241m.\u001b[39mrelease()\n\u001b[1;32m    259\u001b[0m \u001b[38;5;28;01mtry\u001b[39;00m:\n\u001b[1;32m    260\u001b[0m     \u001b[38;5;66;03m# wait for notification or timeout\u001b[39;00m\n\u001b[0;32m--> 261\u001b[0m     \u001b[38;5;28;01mreturn\u001b[39;00m \u001b[38;5;28;43mself\u001b[39;49m\u001b[38;5;241;43m.\u001b[39;49m\u001b[43m_wait_semaphore\u001b[49m\u001b[38;5;241;43m.\u001b[39;49m\u001b[43macquire\u001b[49m\u001b[43m(\u001b[49m\u001b[38;5;28;43;01mTrue\u001b[39;49;00m\u001b[43m,\u001b[49m\u001b[43m \u001b[49m\u001b[43mtimeout\u001b[49m\u001b[43m)\u001b[49m\n\u001b[1;32m    262\u001b[0m \u001b[38;5;28;01mfinally\u001b[39;00m:\n\u001b[1;32m    263\u001b[0m     \u001b[38;5;66;03m# indicate that this thread has woken\u001b[39;00m\n\u001b[1;32m    264\u001b[0m     \u001b[38;5;28mself\u001b[39m\u001b[38;5;241m.\u001b[39m_woken_count\u001b[38;5;241m.\u001b[39mrelease()\n",
      "\u001b[0;31mKeyboardInterrupt\u001b[0m: "
     ]
    }
   ],
   "source": [
    "# start recording\n",
    "writer.start()\n",
    "\n",
    "acq_loop.start()\n",
    "acq_loop.await_process.wait()\n",
    "acq_loop.await_main_thread.set()\n",
    "acq_loop.await_process.wait()\n",
    "\n",
    "time.sleep(duration/1000)\n",
    "acq_loop.stop()\n",
    "\n",
    "acq_loop.join(timeout=60)\n",
    "writer.join(timeout=60)"
   ]
  },
  {
   "cell_type": "code",
   "execution_count": null,
   "id": "53ba6c43",
   "metadata": {},
   "outputs": [
    {
     "data": {
      "text/plain": [
       "1895"
      ]
     },
     "execution_count": 7,
     "metadata": {},
     "output_type": "execute_result"
    }
   ],
   "source": [
    "assert writer.video_file_name.exists()\n",
    "time.sleep(1)\n",
    "count_frames(str(writer.video_file_name))"
   ]
  },
  {
   "cell_type": "code",
   "execution_count": null,
   "id": "b2bfe4a7-2249-4dec-ae6e-47e90b65b731",
   "metadata": {},
   "outputs": [],
   "source": [
    "import cv2\n",
    "\n",
    "cap = cv2.VideoCapture(str(writer.video_file_name), cv2.CAP_FFMPEG)\n",
    "\n",
    "while cap.isOpened():\n",
    "    ret, frame = cap.read()\n",
    "    if not ret:\n",
    "        break\n",
    "    cv2.imshow('frame', frame)    "
   ]
  }
 ],
 "metadata": {
  "kernelspec": {
   "display_name": "Python 3 (ipykernel)",
   "language": "python",
   "name": "python3"
  },
  "language_info": {
   "codemirror_mode": {
    "name": "ipython",
    "version": 3
   },
   "file_extension": ".py",
   "mimetype": "text/x-python",
   "name": "python",
   "nbconvert_exporter": "python",
   "pygments_lexer": "ipython3",
   "version": "3.9.19"
  }
 },
 "nbformat": 4,
 "nbformat_minor": 5
}
