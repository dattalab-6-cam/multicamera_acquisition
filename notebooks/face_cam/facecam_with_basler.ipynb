{
 "cells": [
  {
   "cell_type": "markdown",
   "metadata": {},
   "source": [
    "# Running headcam with top-down Basler cam"
   ]
  },
  {
   "cell_type": "code",
   "execution_count": 1,
   "metadata": {},
   "outputs": [
    {
     "name": "stderr",
     "output_type": "stream",
     "text": [
      "/Users/brianxu/Documents/github/multicamera_acquisition/multicamera_acquisition/interfaces/camera_azure.py:18: UserWarning: pyk4a not installed.  Azure cameras will not be available.\n",
      "  warnings.warn(\"pyk4a not installed.  Azure cameras will not be available.\")\n"
     ]
    }
   ],
   "source": [
    "from multicamera_acquisition.acquisition import refactor_acquire_video, reset_loggers\n",
    "from multicamera_acquisition.config import (\n",
    "    load_config,\n",
    ")\n",
    "import datetime\n",
    "import logging\n",
    "from os.path import join, exists\n",
    "import pandas as pd\n",
    "from glob import glob\n",
    "import matplotlib.pyplot as plt\n",
    "import numpy as np"
   ]
  },
  {
   "cell_type": "code",
   "execution_count": 2,
   "metadata": {},
   "outputs": [
    {
     "data": {
      "text/plain": [
       "{'acq_loop': {'display_every_n': 1,\n",
       "  'downsample': 4,\n",
       "  'dropped_frame_warnings': True,\n",
       "  'max_frames_to_acqure': None},\n",
       " 'cameras': {'face_cam': {'brand': 'uvc',\n",
       "   'brightness': 32,\n",
       "   'contrast': 100,\n",
       "   'display': {'display_frames': True, 'display_range': (0, 255)},\n",
       "   'exposure': 50,\n",
       "   'exposure_mode': 1,\n",
       "   'exposure_priority': 0,\n",
       "   'fps': 210,\n",
       "   'frame_size': (640, 400),\n",
       "   'gain': 50,\n",
       "   'gamma': 340,\n",
       "   'id': 0,\n",
       "   'name': 'face_cam',\n",
       "   'roi': None,\n",
       "   'trigger': {'trigger_type': 'no_trigger'},\n",
       "   'writer': {'auto_remux_videos': True,\n",
       "    'camera_name': 'face_cam',\n",
       "    'codec': 'h264',\n",
       "    'constqp': 18,\n",
       "    'depth': False,\n",
       "    'fmt': 'YUV420',\n",
       "    'fps': 210,\n",
       "    'gop': '30',\n",
       "    'gpu': None,\n",
       "    'idrperiod': '256',\n",
       "    'loglevel': 'info',\n",
       "    'max_video_frames': None,\n",
       "    'multipass': '0',\n",
       "    'output_px_format': 'yuv420p',\n",
       "    'pixel_format': 'gray8',\n",
       "    'preset': 'ultrafast',\n",
       "    'profile': 'high',\n",
       "    'quality': 15,\n",
       "    'rc': 'constqp',\n",
       "    'tuning_info': 'ultra_low_latency',\n",
       "    'type': 'ffmpeg',\n",
       "    'video_codec': 'libx264'}},\n",
       "  'top': {'brand': 'basler',\n",
       "   'constqp': 10,\n",
       "   'display': {'display_frames': True, 'display_range': (0, 255)},\n",
       "   'exposure': 1000,\n",
       "   'fps': 120,\n",
       "   'gain': 12,\n",
       "   'gamma': 1,\n",
       "   'id': '24510726',\n",
       "   'name': 'top',\n",
       "   'pixel_format': 'Mono8',\n",
       "   'roi': None,\n",
       "   'trigger': {'trigger_type': 'no_trigger'},\n",
       "   'writer': {'auto_remux_videos': True,\n",
       "    'camera_name': 'top',\n",
       "    'codec': 'h264',\n",
       "    'constqp': 18,\n",
       "    'depth': False,\n",
       "    'fmt': 'YUV420',\n",
       "    'fps': 120,\n",
       "    'gop': '30',\n",
       "    'gpu': None,\n",
       "    'idrperiod': '256',\n",
       "    'loglevel': 'error',\n",
       "    'max_video_frames': 10368000,\n",
       "    'multipass': '0',\n",
       "    'output_px_format': 'yuv420p',\n",
       "    'pixel_format': 'gray8',\n",
       "    'preset': 'P1',\n",
       "    'profile': 'high',\n",
       "    'quality': 15,\n",
       "    'rc': 'constqp',\n",
       "    'tuning_info': 'ultra_low_latency',\n",
       "    'type': 'ffmpeg',\n",
       "    'video_codec': 'libx264'}}},\n",
       " 'globals': {'fps': 120,\n",
       "  'microcontroller_required': False,\n",
       "  'software_version_info': {'date': None,\n",
       "   'dirty': None,\n",
       "   'error': 'unable to compute version',\n",
       "   'full-revisionid': None,\n",
       "   'version': '0+unknown'}},\n",
       " 'rt_display': {'cameras_per_row': 2,\n",
       "  'display_every_n': 6,\n",
       "  'display_size': (640, 400),\n",
       "  'downsample': 4}}"
      ]
     },
     "execution_count": 2,
     "metadata": {},
     "output_type": "execute_result"
    }
   ],
   "source": [
    "# Recording params\n",
    "rec_time_s = 60\n",
    "base_path = \"/Users/brianxu/Documents/face_cam/tests\"\n",
    "config = load_config(\"./facecam_top_config.yaml\")\n",
    "mouse = \"tmp\"\n",
    "config"
   ]
  },
  {
   "cell_type": "code",
   "execution_count": 3,
   "metadata": {},
   "outputs": [],
   "source": [
    "fps = 210\n",
    "config[\"cameras\"][\"face_cam\"][\"display\"][\"display_frames\"] = True\n",
    "config[\"cameras\"][\"face_cam\"][\"brightness\"] = 64\n",
    "config[\"cameras\"][\"face_cam\"][\"fps\"] = fps\n",
    "config[\"cameras\"][\"face_cam\"][\"writer\"][\"gpu\"] = None\n",
    "config[\"cameras\"][\"face_cam\"][\"writer\"][\"loglevel\"] = \"info\"\n",
    "config[\"cameras\"][\"face_cam\"][\"writer\"][\"fps\"] = fps\n",
    "config[\"rt_display\"][\"downsample\"] = 1\n",
    "\n",
    "config[\"acq_loop\"]['dropped_frame_warnings'] = True\n",
    "# config[\"acq_loop\"]['max_frames_to_acqure'] = 190 * rec_time_s"
   ]
  },
  {
   "cell_type": "code",
   "execution_count": 4,
   "metadata": {},
   "outputs": [
    {
     "data": {
      "text/plain": [
       "'2024-07-26_14-48-11_tmp'"
      ]
     },
     "execution_count": 4,
     "metadata": {},
     "output_type": "execute_result"
    }
   ],
   "source": [
    "datestr = datetime.datetime.now().strftime(\"%Y-%m-%d_%H-%M-%S\")\n",
    "recording_name = f\"{datestr}_{mouse}\"\n",
    "recording_name"
   ]
  },
  {
   "cell_type": "code",
   "execution_count": 5,
   "metadata": {},
   "outputs": [
    {
     "name": "stderr",
     "output_type": "stream",
     "text": [
      "2024-07-26 14:48:11,017 - main_acq_logger - INFO - Starting recording...\n",
      "2024-07-26 14:48:11,620 - main_acq_logger - INFO - Opening subprocesses and cameras, this may take a moment...\n",
      "/Users/brianxu/Documents/github/multicamera_acquisition/multicamera_acquisition/interfaces/camera_azure.py:18: UserWarning: pyk4a not installed.  Azure cameras will not be available.\n",
      "  warnings.warn(\"pyk4a not installed.  Azure cameras will not be available.\")\n",
      "2024-07-26 14:48:14,245 - main_acq_logger - INFO - Starting cameras...\n",
      "2024-07-26 14:48:14,268 - top_acqLoop - WARNING - Dropped frame on iter 0 after receiving 1 frames (delta_t=687680.29188 ms, threshold=12.5 ms)\n"
     ]
    },
    {
     "name": "stdout",
     "output_type": "stream",
     "text": [
      "Recording Progress: 115.0% (69 / 60 sec))"
     ]
    },
    {
     "name": "stderr",
     "output_type": "stream",
     "text": [
      "2024-07-26 14:49:24,260 - main_acq_logger - INFO - Ending processes, this may take a moment...\n",
      "2024-07-26 14:49:25,474 - main_acq_logger - WARNING - Terminating acquisition loop top (join timed out)\n",
      "2024-07-26 14:49:25,478 - main_acq_logger - INFO - Processes ended\n",
      "2024-07-26 14:49:25,483 - main_acq_logger - INFO - Done.\n"
     ]
    },
    {
     "name": "stdout",
     "output_type": "stream",
     "text": [
      "Recording Progress: 100%"
     ]
    }
   ],
   "source": [
    "reset_loggers()\n",
    "\n",
    "save_loc, full_config = refactor_acquire_video(\n",
    "    join(base_path, mouse),\n",
    "    config,\n",
    "    recording_duration_s=rec_time_s,\n",
    "    recording_name=recording_name,\n",
    "    append_datetime=False,\n",
    "    overwrite=True,\n",
    "    logging_level=logging.INFO,\n",
    ")"
   ]
  },
  {
   "cell_type": "code",
   "execution_count": null,
   "metadata": {},
   "outputs": [],
   "source": []
  }
 ],
 "metadata": {
  "kernelspec": {
   "display_name": "Python 3 (ipykernel)",
   "language": "python",
   "name": "python3"
  },
  "language_info": {
   "codemirror_mode": {
    "name": "ipython",
    "version": 3
   },
   "file_extension": ".py",
   "mimetype": "text/x-python",
   "name": "python",
   "nbconvert_exporter": "python",
   "pygments_lexer": "ipython3",
   "version": "3.9.19"
  }
 },
 "nbformat": 4,
 "nbformat_minor": 4
}
