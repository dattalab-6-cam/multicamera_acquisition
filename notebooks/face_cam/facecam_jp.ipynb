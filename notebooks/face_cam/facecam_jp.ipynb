{
 "cells": [
  {
   "cell_type": "code",
   "execution_count": null,
   "metadata": {},
   "outputs": [],
   "source": [
    "from multicamera_acquisition.acquisition import refactor_acquire_video, AcquisitionLoop, reset_loggers\n",
    "from multicamera_acquisition.writer import NVC_Writer, FFMPEG_Writer\n",
    "from multicamera_acquisition.interfaces.microcontroller import Microcontroller \n",
    "from multicamera_acquisition.config import (\n",
    "    load_config,\n",
    ")\n",
    "from multicamera_acquisition.interfaces.camera_uvc import UVCCamera as Camera\n",
    "import datetime\n",
    "import logging\n",
    "from os.path import join, exists\n",
    "import pandas as pd\n",
    "from glob import glob\n",
    "import matplotlib.pyplot as plt\n",
    "import numpy as np"
   ]
  },
  {
   "cell_type": "code",
   "execution_count": null,
   "metadata": {},
   "outputs": [],
   "source": [
    "# Recording params\n",
    "rec_time_s = 3\n",
    "base_path = \"/Users/jonahpearl/Documents/PiN/Datta_lab/tmp/facecam_tests\"\n",
    "config = load_config(\"./facecam_config.yaml\")\n",
    "mouse = \"tmp\""
   ]
  },
  {
   "cell_type": "code",
   "execution_count": null,
   "metadata": {},
   "outputs": [],
   "source": [
    "datestr = datetime.datetime.now().strftime(\"%Y%m%d\")\n",
    "recording_name = f\"{datestr}_{mouse}\"\n",
    "recording_name"
   ]
  },
  {
   "cell_type": "code",
   "execution_count": null,
   "metadata": {},
   "outputs": [],
   "source": [
    "reset_loggers()\n",
    "\n",
    "save_loc, full_config = refactor_acquire_video(\n",
    "    join(base_path, mouse),\n",
    "    config,\n",
    "    recording_duration_s=rec_time_s,\n",
    "    recording_name=recording_name,\n",
    "    append_datetime=False,\n",
    "    overwrite=True,\n",
    "    logging_level=logging.INFO,\n",
    ")"
   ]
  },
  {
   "cell_type": "code",
   "execution_count": null,
   "metadata": {},
   "outputs": [],
   "source": []
  },
  {
   "cell_type": "code",
   "execution_count": null,
   "metadata": {},
   "outputs": [],
   "source": []
  }
 ],
 "metadata": {
  "kernelspec": {
   "display_name": "Python 3 (ipykernel)",
   "language": "python",
   "name": "python3"
  },
  "language_info": {
   "codemirror_mode": {
    "name": "ipython",
    "version": 3
   },
   "file_extension": ".py",
   "mimetype": "text/x-python",
   "name": "python",
   "nbconvert_exporter": "python",
   "pygments_lexer": "ipython3",
   "version": "3.8.18"
  }
 },
 "nbformat": 4,
 "nbformat_minor": 4
}
