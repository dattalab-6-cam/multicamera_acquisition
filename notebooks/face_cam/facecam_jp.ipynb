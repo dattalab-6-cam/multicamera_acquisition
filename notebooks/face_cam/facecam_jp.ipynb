{
 "cells": [
  {
   "cell_type": "code",
   "execution_count": 1,
   "metadata": {},
   "outputs": [
    {
     "name": "stderr",
     "output_type": "stream",
     "text": [
      "/Users/jonahpearl/Documents/PiN/Datta_lab/Local_code/multicamera_acquisition/multicamera_acquisition/interfaces/camera_azure.py:18: UserWarning: pyk4a not installed.  Azure cameras will not be available.\n",
      "  warnings.warn(\"pyk4a not installed.  Azure cameras will not be available.\")\n"
     ]
    }
   ],
   "source": [
    "from multicamera_acquisition.acquisition import refactor_acquire_video, AcquisitionLoop, reset_loggers\n",
    "from multicamera_acquisition.writer import NVC_Writer, FFMPEG_Writer\n",
    "from multicamera_acquisition.interfaces.microcontroller import Microcontroller \n",
    "from multicamera_acquisition.config import (\n",
    "    load_config,\n",
    ")\n",
    "from multicamera_acquisition.interfaces.camera_uvc import UVCCamera as Camera\n",
    "import datetime\n",
    "import logging\n",
    "from os.path import join, exists\n",
    "import pandas as pd\n",
    "from glob import glob\n",
    "import matplotlib.pyplot as plt\n",
    "import numpy as np"
   ]
  },
  {
   "cell_type": "code",
   "execution_count": 2,
   "metadata": {},
   "outputs": [],
   "source": [
    "# Recording params\n",
    "rec_time_s = 3\n",
    "base_path = \"/Users/jonahpearl/Documents/PiN/Datta_lab/tmp/facecam_tests\"\n",
    "config = load_config(\"./facecam_config.yaml\")\n",
    "mouse = \"tmp\""
   ]
  },
  {
   "cell_type": "code",
   "execution_count": 3,
   "metadata": {},
   "outputs": [
    {
     "data": {
      "text/plain": [
       "'20240712_tmp'"
      ]
     },
     "execution_count": 3,
     "metadata": {},
     "output_type": "execute_result"
    }
   ],
   "source": [
    "datestr = datetime.datetime.now().strftime(\"%Y%m%d\")\n",
    "recording_name = f\"{datestr}_{mouse}\"\n",
    "recording_name"
   ]
  },
  {
   "cell_type": "code",
   "execution_count": 4,
   "metadata": {},
   "outputs": [
    {
     "name": "stderr",
     "output_type": "stream",
     "text": [
      "2024-07-12 16:59:44,665 - main_acq_logger - INFO - Starting recording...\n",
      "2024-07-12 16:59:45,022 - main_acq_logger - INFO - Opening subprocesses and cameras, this may take a moment...\n",
      "2024-07-12 16:59:45,720 - main_acq_logger - INFO - Starting cameras...\n"
     ]
    },
    {
     "name": "stdout",
     "output_type": "stream",
     "text": [
      "Recording Progress: 0%"
     ]
    },
    {
     "name": "stderr",
     "output_type": "stream",
     "text": [
      "ffmpeg version 6.1.1 Copyright (c) 2000-2023 the FFmpeg developers\n",
      "  built with Apple clang version 14.0.0 (clang-1400.0.29.202)\n",
      "  configuration: --prefix=/opt/homebrew/Cellar/ffmpeg/6.1.1_2 --enable-shared --enable-pthreads --enable-version3 --cc=clang --host-cflags= --host-ldflags= --enable-ffplay --enable-gnutls --enable-gpl --enable-libaom --enable-libaribb24 --enable-libbluray --enable-libdav1d --enable-libharfbuzz --enable-libjxl --enable-libmp3lame --enable-libopus --enable-librav1e --enable-librist --enable-librubberband --enable-libsnappy --enable-libsrt --enable-libssh --enable-libsvtav1 --enable-libtesseract --enable-libtheora --enable-libvidstab --enable-libvmaf --enable-libvorbis --enable-libvpx --enable-libwebp --enable-libx264 --enable-libx265 --enable-libxml2 --enable-libxvid --enable-lzma --enable-libfontconfig --enable-libfreetype --enable-frei0r --enable-libass --enable-libopencore-amrnb --enable-libopencore-amrwb --enable-libopenjpeg --enable-libopenvino --enable-li"
     ]
    },
    {
     "name": "stdout",
     "output_type": "stream",
     "text": [
      "Recording Progress: 100.0% (3 / 3 sec)"
     ]
    },
    {
     "name": "stderr",
     "output_type": "stream",
     "text": [
      "2024-07-12 16:59:49,725 - main_acq_logger - INFO - Ending processes, this may take a moment...\n",
      "2024-07-12 16:59:50,012 - main_acq_logger - INFO - Processes ended\n",
      "2024-07-12 16:59:50,012 - main_acq_logger - INFO - Done.\n"
     ]
    },
    {
     "name": "stdout",
     "output_type": "stream",
     "text": [
      "Recording Progress: 100%"
     ]
    }
   ],
   "source": [
    "reset_loggers()\n",
    "\n",
    "save_loc, full_config = refactor_acquire_video(\n",
    "    join(base_path, mouse),\n",
    "    config,\n",
    "    recording_duration_s=rec_time_s,\n",
    "    recording_name=recording_name,\n",
    "    append_datetime=False,\n",
    "    overwrite=True,\n",
    "    logging_level=logging.INFO,\n",
    ")"
   ]
  },
  {
   "cell_type": "code",
   "execution_count": null,
   "metadata": {},
   "outputs": [],
   "source": []
  },
  {
   "cell_type": "code",
   "execution_count": null,
   "metadata": {},
   "outputs": [],
   "source": []
  }
 ],
 "metadata": {
  "kernelspec": {
   "display_name": "Python 3 (ipykernel)",
   "language": "python",
   "name": "python3"
  },
  "language_info": {
   "codemirror_mode": {
    "name": "ipython",
    "version": 3
   },
   "file_extension": ".py",
   "mimetype": "text/x-python",
   "name": "python",
   "nbconvert_exporter": "python",
   "pygments_lexer": "ipython3",
   "version": "3.8.18"
  }
 },
 "nbformat": 4,
 "nbformat_minor": 4
}
